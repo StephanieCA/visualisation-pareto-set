{
 "metadata": {
  "name": ""
 },
 "nbformat": 3,
 "nbformat_minor": 0,
 "worksheets": [
  {
   "cells": [
    {
     "cell_type": "heading",
     "level": 1,
     "metadata": {},
     "source": [
      "Purpose: Plotting the results of cluster analysis of the Pareto set."
     ]
    },
    {
     "cell_type": "code",
     "collapsed": false,
     "input": [
      "# Loading\n",
      "import matplotlib.pyplot as plt\n",
      "import matplotlib as mpl\n",
      "import pandas as pd\n",
      "from mpl_toolkits.mplot3d import Axes3D"
     ],
     "language": "python",
     "metadata": {},
     "outputs": [],
     "prompt_number": 7
    },
    {
     "cell_type": "heading",
     "level": 1,
     "metadata": {},
     "source": [
      "1. User input"
     ]
    },
    {
     "cell_type": "heading",
     "level": 2,
     "metadata": {},
     "source": [
      "1.1 Input and format Pareto optimal results"
     ]
    },
    {
     "cell_type": "raw",
     "metadata": {},
     "source": [
      "Optimisation results"
     ]
    },
    {
     "cell_type": "code",
     "collapsed": false,
     "input": [
      "opdata = pd.read_pickle(\"Data/opdata\")"
     ],
     "language": "python",
     "metadata": {},
     "outputs": [],
     "prompt_number": 8
    },
    {
     "cell_type": "raw",
     "metadata": {},
     "source": [
      "Objectives individually"
     ]
    },
    {
     "cell_type": "code",
     "collapsed": false,
     "input": [
      "obj1 = pd.read_pickle(\"Data/obj1\")\n",
      "obj2 = pd.read_pickle(\"Data/obj2\")\n",
      "obj3 = pd.read_pickle(\"Data/obj3\")"
     ],
     "language": "python",
     "metadata": {},
     "outputs": [],
     "prompt_number": 9
    },
    {
     "cell_type": "heading",
     "level": 2,
     "metadata": {},
     "source": [
      "1.2 Set plotting parameters"
     ]
    },
    {
     "cell_type": "raw",
     "metadata": {},
     "source": [
      "Set ticks for plots"
     ]
    },
    {
     "cell_type": "code",
     "collapsed": false,
     "input": [
      "obj1ticks = [150,250,350,450]\n",
      "obj2ticks = [5200,5300,5400,5500]\n",
      "obj3ticks = [350,450,550]"
     ],
     "language": "python",
     "metadata": {},
     "outputs": [],
     "prompt_number": 10
    },
    {
     "cell_type": "raw",
     "metadata": {},
     "source": [
      "Set objective names for charts (including arrows for direction of preference: right is maximised, left is minimised)"
     ]
    },
    {
     "cell_type": "code",
     "collapsed": false,
     "input": [
      "obj1chartname = 'Minimum Storage (GL)     %s' % u'\\u2192'\n",
      "obj2chartname = '%s    Total Cost ($million)' % u'\\u2190'\n",
      "obj3chartname = '%s    Total Spill (GL)' % u'\\u2190'"
     ],
     "language": "python",
     "metadata": {},
     "outputs": [],
     "prompt_number": 11
    },
    {
     "cell_type": "heading",
     "level": 2,
     "metadata": {},
     "source": [
      "1.3 Input and format cluster analysis results"
     ]
    },
    {
     "cell_type": "raw",
     "metadata": {},
     "source": [
      "Enter medoids"
     ]
    },
    {
     "cell_type": "code",
     "collapsed": false,
     "input": [
      "medobj1 = pd.read_pickle(\"Data/medobj1\")\n",
      "medobj2 = pd.read_pickle(\"Data/medobj2\")\n",
      "medobj3 = pd.read_pickle(\"Data/medobj3\")"
     ],
     "language": "python",
     "metadata": {},
     "outputs": [],
     "prompt_number": 12
    },
    {
     "cell_type": "raw",
     "metadata": {},
     "source": [
      "Enter medoid index (index of options that are medoids). Ensure these are the same index ref as opdata."
     ]
    },
    {
     "cell_type": "code",
     "collapsed": false,
     "input": [
      "medindex = pd.read_pickle(\"Data/medindex\")"
     ],
     "language": "python",
     "metadata": {},
     "outputs": [],
     "prompt_number": 13
    },
    {
     "cell_type": "heading",
     "level": 2,
     "metadata": {},
     "source": [
      "1.4 Specify cluster colours"
     ]
    },
    {
     "cell_type": "code",
     "collapsed": false,
     "input": [
      "# Import from pickle to make consistent across plots\n",
      "clustcols = pd.read_pickle('Data/clustercolours')"
     ],
     "language": "python",
     "metadata": {},
     "outputs": [],
     "prompt_number": 14
    },
    {
     "cell_type": "heading",
     "level": 2,
     "metadata": {},
     "source": [
      "1.5 Enter list of colours for plotting"
     ]
    },
    {
     "cell_type": "raw",
     "metadata": {},
     "source": [
      "Each decision option is assigned a colour based on cluster membership (clusternos.csv)"
     ]
    },
    {
     "cell_type": "code",
     "collapsed": false,
     "input": [
      "# Import from pickle to make consistent across plots\n",
      "clustcollist = pd.read_pickle('Data/clustcollist')"
     ],
     "language": "python",
     "metadata": {},
     "outputs": [],
     "prompt_number": 15
    },
    {
     "cell_type": "heading",
     "level": 1,
     "metadata": {},
     "source": [
      "2. Execution"
     ]
    },
    {
     "cell_type": "heading",
     "level": 2,
     "metadata": {},
     "source": [
      "2.1 Print list of medoids for reference and identification of values"
     ]
    },
    {
     "cell_type": "code",
     "collapsed": false,
     "input": [
      "# 1 is added to reported medoid number since Python counts from 0 and we wish to count from 1\n",
      "# option number still starts from 0.\n",
      "for i in medindex.index:\n",
      "    print 'Option %d is Medoid %d with %s %d, %s %d, and %s %d' % (medindex[i], i+1, obj1.name, obj1[medindex[i]], \n",
      "                                                                   obj2.name, obj2[medindex[i]], \n",
      "                                                                   obj3.name, obj3[medindex[i]])"
     ],
     "language": "python",
     "metadata": {},
     "outputs": [
      {
       "output_type": "stream",
       "stream": "stdout",
       "text": [
        "Option 243 is Medoid 1 with Minimum System Storage (GL) 428, Total Cost ($ million) 5502, and Total Spill Volume (GL) 500\n",
        "Option 218 is Medoid 2 with Minimum System Storage (GL) 344, Total Cost ($ million) 5207, and Total Spill Volume (GL) 339\n",
        "Option 642 is Medoid 3 with Minimum System Storage (GL) 304, Total Cost ($ million) 5340, and Total Spill Volume (GL) 315\n",
        "Option 431 is Medoid 4 with Minimum System Storage (GL) 423, Total Cost ($ million) 5510, and Total Spill Volume (GL) 417\n",
        "Option 70 is Medoid 5 with Minimum System Storage (GL) 159, Total Cost ($ million) 5276, and Total Spill Volume (GL) 305\n",
        "Option 347 is Medoid 6 with Minimum System Storage (GL) 404, Total Cost ($ million) 5421, and Total Spill Volume (GL) 426\n",
        "Option 666 is Medoid 7 with Minimum System Storage (GL) 266, Total Cost ($ million) 5458, and Total Spill Volume (GL) 306\n",
        "Option 602 is Medoid 8 with Minimum System Storage (GL) 209, Total Cost ($ million) 5350, and Total Spill Volume (GL) 306\n",
        "Option 509 is Medoid 9 with Minimum System Storage (GL) 378, Total Cost ($ million) 5318, and Total Spill Volume (GL) 373\n",
        "Option 138 is Medoid 10 with Minimum System Storage (GL) 268, Total Cost ($ million) 5234, and Total Spill Volume (GL) 317\n"
       ]
      }
     ],
     "prompt_number": 16
    },
    {
     "cell_type": "heading",
     "level": 2,
     "metadata": {},
     "source": [
      "2.2 Create category and markers to identify cluster medoids for plotting"
     ]
    },
    {
     "cell_type": "raw",
     "metadata": {},
     "source": [
      "Create list to identify medoids"
     ]
    },
    {
     "cell_type": "code",
     "collapsed": false,
     "input": [
      "medcat = {}\n",
      "for i in range(len(obj1)):\n",
      "    if any(medindex == i):\n",
      "        medcat[i] = 1\n",
      "    else:\n",
      "        medcat[i] = 0"
     ],
     "language": "python",
     "metadata": {},
     "outputs": [],
     "prompt_number": 17
    },
    {
     "cell_type": "raw",
     "metadata": {},
     "source": [
      "Create medoid marker pool to identify medoids"
     ]
    },
    {
     "cell_type": "code",
     "collapsed": false,
     "input": [
      "medmarks = {0:'.', 1:'o'}"
     ],
     "language": "python",
     "metadata": {},
     "outputs": [],
     "prompt_number": 18
    },
    {
     "cell_type": "heading",
     "level": 2,
     "metadata": {},
     "source": [
      "2.3 Create 3D Objective Scatterplot"
     ]
    },
    {
     "cell_type": "raw",
     "metadata": {},
     "source": [
      "Plot is coloured according to cluster, and medoids are indicated by larger markers"
     ]
    },
    {
     "cell_type": "code",
     "collapsed": false,
     "input": [
      "fig = plt.figure(figsize = [10,10])\n",
      "ax = fig.add_subplot(1,1,1)\n",
      "ax = Axes3D(fig)\n",
      "\n",
      "# plot points with colours according to cluster number and markers according to medoid/not medoid\n",
      "for i in medcat:\n",
      "    ax.scatter(obj1[i], obj2[i], obj3[i], s = 60, c = clustcollist[i], marker = medmarks[medcat[i]])\n",
      "\n",
      "# create legend for clusters with points (coloured circles) and labels (cluster number)\n",
      "legpts = []    \n",
      "leglabs = []\n",
      "for i in range(0, len(medobj1)):\n",
      "    legpt = mpl.lines.Line2D([0], [0], marker = 'o', color = clustcols[i], linestyle = 'none')\n",
      "    legpts.append(legpt)\n",
      "    leglab = 'Cluster %d' % (i + 1)\n",
      "    leglabs.append(leglab)\n",
      "ax.legend(legpts, leglabs, numpoints = 1, loc = 'upper right', fontsize = 'small')\n",
      "\n",
      "# axes labels\n",
      "ax.set_xlabel(obj1chartname)\n",
      "ax.set_ylabel(obj2chartname)\n",
      "ax.set_zlabel(obj3chartname)\n",
      "\n",
      "# save and close figure\n",
      "plt.savefig('Cluster Analysis/scatterplot pareto front clustered markers.png', dpi=150, bbox_inches='tight')\n",
      "plt.close(fig)"
     ],
     "language": "python",
     "metadata": {},
     "outputs": [],
     "prompt_number": 19
    },
    {
     "cell_type": "heading",
     "level": 2,
     "metadata": {},
     "source": [
      "2.4 Create 2D Clustered Scatterplots"
     ]
    },
    {
     "cell_type": "raw",
     "metadata": {},
     "source": [
      "2D plots of objective function pairs, coloured according to cluster, with medoids indicated by larger markers"
     ]
    },
    {
     "cell_type": "code",
     "collapsed": false,
     "input": [
      "fig = plt.figure(figsize = [15,15])\n",
      "\n",
      "# --- Subplot 1 ---\n",
      "ax1 = fig.add_subplot(2,2,1)\n",
      "# plot points with colours according to cluster number and markers according to medoid/not medoid\n",
      "for i in medcat:\n",
      "    ax1.scatter(obj1[i], obj2[i], s = 60, c = clustcollist[i], marker = medmarks[medcat[i]])\n",
      "ax1.set_xlabel('%s    %s' % ('(a)', obj1chartname))\n",
      "ax1.set_ylabel(obj2chartname)\n",
      "\n",
      "# --- Subplot 2 ---\n",
      "ax2 = fig.add_subplot(2,2,2)\n",
      "# plot points with colours according to cluster number and markers according to medoid/not medoid\n",
      "for i in medcat:\n",
      "    ax2.scatter(obj1[i], obj3[i], s = 60, c = clustcollist[i], marker = medmarks[medcat[i]])\n",
      "ax2.set_xlabel('%s    %s' % ('(b)', obj1chartname))\n",
      "ax2.set_ylabel(obj3chartname)\n",
      "\n",
      "# --- Subplot 3 ---\n",
      "ax3 = fig.add_subplot(2,2,3)\n",
      "# plot points with colours according to cluster number and markers according to medoid/not medoid\n",
      "for i in medcat:\n",
      "    ax3.scatter(obj2[i], obj3[i], s = 60, c = clustcollist[i], marker = medmarks[medcat[i]])\n",
      "ax3.set_xlabel('%s    %s' % ('(c)', obj2chartname))\n",
      "ax3.set_ylabel(obj3chartname)\n",
      "\n",
      "# save and close figure\n",
      "plt.savefig('Cluster Analysis/scatterplot pairwise pareto front clustered.png', dpi=150, bbox_inches='tight')\n",
      "plt.close(fig)"
     ],
     "language": "python",
     "metadata": {},
     "outputs": [],
     "prompt_number": 20
    },
    {
     "cell_type": "heading",
     "level": 2,
     "metadata": {},
     "source": [
      "2.5 Create Clustered Scatterplot Matrix"
     ]
    },
    {
     "cell_type": "raw",
     "metadata": {},
     "source": [
      "3x3 pairwise plots of objective functions, coloured according to cluster and medoids indicated by larger markers. \n",
      "Histograms of each objective function on the diagonal."
     ]
    },
    {
     "cell_type": "code",
     "collapsed": false,
     "input": [
      "fig, axes = plt.subplots(3, 3, figsize = [15,15])\n",
      "\n",
      "# 1. Obj1 Histogram (Obj1 vs Obj1)\n",
      "axes[0,0].hist(obj1, color = 'blue')\n",
      "plt.setp(axes[0,0].get_xticklabels(), visible=False)\n",
      "plt.setp(axes[0,0].get_yticklabels(), visible=False)\n",
      "axes[0,0].text(axes[0,0].hist(obj1)[1][0], axes[0,0].hist(obj1)[0].max()-5, '(a)')\n",
      "\n",
      "# 2. Obj1 vs Obj2\n",
      "for i in medcat:\n",
      "    axes[0,1].scatter(obj2[i], obj1[i], s = 60, c = clustcollist[i], marker = medmarks[medcat[i]])\n",
      "axes[0,1].xaxis.tick_top()\n",
      "axes[0,1].set_xticks(obj2ticks)\n",
      "axes[0,1].xaxis.set_label_position('top')\n",
      "axes[0,1].set_xlabel(obj2.name)\n",
      "axes[0,1].set_yticks(obj1ticks)\n",
      "plt.setp(axes[0,1].get_yticklabels(), visible=False)\n",
      "axes[0,1].text(min(obj2), max(obj1), '(b)')\n",
      "\n",
      "# 3. Obj1 vs Obj3\n",
      "axes[0,2].scatter(obj3, obj1)\n",
      "for i in medcat:\n",
      "    axes[0,2].scatter(obj3[i], obj1[i], s = 60, c = clustcollist[i], marker = medmarks[medcat[i]])\n",
      "axes[0,2].xaxis.tick_top()\n",
      "axes[0,2].set_xticks(obj3ticks)\n",
      "axes[0,2].xaxis.set_label_position('top')\n",
      "axes[0,2].set_xlabel(obj3.name)\n",
      "axes[0,2].yaxis.tick_right()\n",
      "axes[0,2].set_yticks(obj1ticks)\n",
      "axes[0,2].yaxis.set_label_position('right')\n",
      "axes[0,2].set_ylabel(obj1.name, rotation = 270, va = 'bottom')\n",
      "axes[0,2].text(min(obj3), max(obj1), '(c)')\n",
      "    \n",
      "# 4. Obj2 vs Obj1\n",
      "for i in medcat:\n",
      "    axes[1,0].scatter(obj1[i], obj2[i], s = 60, c = clustcollist[i], marker = medmarks[medcat[i]])\n",
      "axes[1,0].hlines([5300, 5400], obj1.min(), obj1.max(), colors = ['blue','blue'], linestyle = 'dashed')\n",
      "axes[1,0].set_xticks(obj1ticks)\n",
      "plt.setp(axes[1,0].get_xticklabels(), visible=False)\n",
      "axes[1,0].set_yticks(obj2ticks)\n",
      "axes[1,0].set_ylabel(obj2.name)\n",
      "axes[1,0].text(min(obj1), max(obj2), '(d)')\n",
      "\n",
      "# 5. Obj2 Histogram (Obj 2 vs Obj 2)\n",
      "axes[1,1].hist(obj2, color = 'blue')\n",
      "plt.setp(axes[1,1].get_xticklabels(), visible=False)\n",
      "plt.setp(axes[1,1].get_yticklabels(), visible=False)\n",
      "axes[1,1].text(axes[1,1].hist(obj2)[1][0], axes[1,1].hist(obj2)[0][3]-1.5, '(e)')\n",
      "\n",
      "# 6. Obj2 vs Obj 3\n",
      "for i in medcat:\n",
      "    axes[1,2].scatter(obj3[i], obj2[i], s = 60, c = clustcollist[i], marker = medmarks[medcat[i]])\n",
      "axes[1,2].set_xticks(obj3ticks)\n",
      "plt.setp(axes[1,2].get_xticklabels(), visible=False)\n",
      "axes[1,2].yaxis.tick_right()\n",
      "axes[1,2].set_yticks(obj2ticks)\n",
      "axes[1,2].yaxis.set_label_position('right')\n",
      "axes[1,2].set_ylabel(obj2.name, rotation = 270, va = 'bottom')\n",
      "axes[1,2].text(min(obj3), max(obj2), '(f)')\n",
      "\n",
      "# 7. Obj3 vs Obj1\n",
      "for i in medcat:\n",
      "    axes[2,0].scatter(obj1[i], obj3[i], s = 60, c = clustcollist[i], marker = medmarks[medcat[i]])\n",
      "axes[2,0].set_xticks(obj1ticks)\n",
      "axes[2,0].set_xlabel(obj1.name)\n",
      "axes[2,0].set_yticks(obj3ticks)\n",
      "axes[2,0].set_ylabel(obj3.name)\n",
      "axes[2,0].text(min(obj1), max(obj3), '(g)')\n",
      "\n",
      "# 8. Obj3 vs Obj2\n",
      "for i in medcat:\n",
      "    axes[2,1].scatter(obj2[i], obj3[i], s = 60, c = clustcollist[i], marker = medmarks[medcat[i]])\n",
      "axes[2,1].set_xticks(obj2ticks)\n",
      "axes[2,1].set_xlabel(obj2.name)\n",
      "axes[2,1].set_yticks(obj3ticks)\n",
      "plt.setp(axes[2,1].get_yticklabels(), visible=False)\n",
      "axes[2,1].text(min(obj2), max(obj3), '(h)')\n",
      "\n",
      "# 9. Obj3 Histogram (Obj3 vs Obj3)\n",
      "axes[2,2].hist(obj3, color = 'blue')\n",
      "plt.setp(axes[2,2].get_xticklabels(), visible=False)\n",
      "plt.setp(axes[2,2].get_yticklabels(), visible=False)\n",
      "axes[2,2].text(axes[2,2].hist(obj3)[1][9], axes[2,2].hist(obj3)[0].max()-8, '(i)')\n",
      "\n",
      "# Adjust surrounding space \n",
      "plt.subplots_adjust(wspace = 0, hspace = 0)\n",
      "\n",
      "# save and close figure\n",
      "plt.savefig('Cluster Analysis/scatterplot matrix pareto front clustered.png', dpi=150, bbox_inches='tight')\n",
      "plt.close(fig)"
     ],
     "language": "python",
     "metadata": {},
     "outputs": [],
     "prompt_number": 21
    },
    {
     "cell_type": "code",
     "collapsed": false,
     "input": [],
     "language": "python",
     "metadata": {},
     "outputs": [],
     "prompt_number": 21
    }
   ],
   "metadata": {}
  }
 ]
}