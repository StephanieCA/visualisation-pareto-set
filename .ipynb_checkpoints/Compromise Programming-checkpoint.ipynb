{
 "metadata": {
  "name": ""
 },
 "nbformat": 3,
 "nbformat_minor": 0,
 "worksheets": [
  {
   "cells": [
    {
     "cell_type": "code",
     "collapsed": false,
     "input": [
      "# Initialisation\n",
      "#%matplotlib inline # use if you want to view plots inline\n",
      "import pandas as pd\n",
      "import itertools\n",
      "import matplotlib.pyplot as plt\n",
      "import matplotlib as mpl\n",
      "from __future__ import division # enables division of integers to be floating points in python 2\n",
      "from mpl_toolkits.mplot3d import Axes3D\n",
      "import pylab"
     ],
     "language": "python",
     "metadata": {},
     "outputs": [],
     "prompt_number": 1
    },
    {
     "cell_type": "heading",
     "level": 1,
     "metadata": {},
     "source": [
      "1. Functions"
     ]
    },
    {
     "cell_type": "heading",
     "level": 2,
     "metadata": {},
     "source": [
      "1.1 Compromise programming function"
     ]
    },
    {
     "cell_type": "raw",
     "metadata": {},
     "source": [
      "Function to calculate compromise programming distance according to Ballestero 2007 method"
     ]
    },
    {
     "cell_type": "code",
     "collapsed": false,
     "input": [
      "def cpdistance(objweights, normobjs, filename):\n",
      "    n200 = len(objweights)/200\n",
      "    results = {}\n",
      "    for i in objweights.index:\n",
      "        weight = objweights[i]\n",
      "        column = normobjs[i]\n",
      "        objdistance = n200*weight*(1-column) + 0.5*n200*weight*(1-n200*weight)*(1-column)**2\n",
      "        results[i] = objdistance\n",
      "    distance = sum(results.itervalues())\n",
      "    results = pd.DataFrame(distance, columns = ['%s Distance' % filename])\n",
      "    return results\n",
      "\n",
      "# Find point of minimum distance\n",
      "def cpmindist(distance):\n",
      "    cpmindistpoint = distance.idxmin()\n",
      "    return cpmindistpoint"
     ],
     "language": "python",
     "metadata": {},
     "outputs": [],
     "prompt_number": 2
    },
    {
     "cell_type": "heading",
     "level": 2,
     "metadata": {},
     "source": [
      "1.2 Scatterplot function"
     ]
    },
    {
     "cell_type": "code",
     "collapsed": false,
     "input": [
      "# Function to scatter plot results\n",
      "def scatterplot(results, cpmindistpoint, obj1, obj2, obj3, obj1name, obj2name, obj3name, objweights, filename): \n",
      "    scatcol = []\n",
      "    for i in range(0, len(results)):\n",
      "        scatcol.append(\"black\")\n",
      "    scatcol[int(cpmindistpoint)] = (\"red\")\n",
      "    \n",
      "    fig = plt.figure(figsize = [10,10])\n",
      "    ax = Axes3D(fig)\n",
      "\n",
      "    ax.scatter(abs(obj1), abs(obj2), abs(obj3), c = scatcol) # absolute values to remove negations\n",
      "    ax.set_xlabel(obj1name)\n",
      "    ax.set_ylabel(obj2name)\n",
      "    ax.set_zlabel(obj3name)\n",
      "    #If title is wanted: ax.set_title('Compromise Programming with %d%s weight on %s, %d%s weight on %s, and %d%s weight on %s' \\\n",
      "        #% (objweights[obj1name], '%', obj1name, objweights[obj2name], '%', obj2name, objweights[obj3name], '%', obj3name))\n",
      "    pngfilename = '%s.png' % (filename)\n",
      "    return plt.savefig(pngfilename, dpi=800, bbox_inches='tight') "
     ],
     "language": "python",
     "metadata": {},
     "outputs": [],
     "prompt_number": 3
    },
    {
     "cell_type": "heading",
     "level": 1,
     "metadata": {},
     "source": [
      "2. User Input"
     ]
    },
    {
     "cell_type": "heading",
     "level": 2,
     "metadata": {},
     "source": [
      "2.1 Import Pareto set"
     ]
    },
    {
     "cell_type": "raw",
     "metadata": {},
     "source": [
      "Enter objective functions"
     ]
    },
    {
     "cell_type": "code",
     "collapsed": false,
     "input": [
      "obj1 = pd.read_pickle(\"Data/obj1\")\n",
      "obj2 = pd.read_pickle(\"Data/obj2\")\n",
      "obj3 = pd.read_pickle(\"Data/obj3\")"
     ],
     "language": "python",
     "metadata": {},
     "outputs": [],
     "prompt_number": 4
    },
    {
     "cell_type": "code",
     "collapsed": false,
     "input": [
      "objdf = pd.read_pickle(\"Data/objdf\")"
     ],
     "language": "python",
     "metadata": {},
     "outputs": [],
     "prompt_number": 5
    },
    {
     "cell_type": "raw",
     "metadata": {},
     "source": [
      "Enter 1-normalised objective function results, and objective names from these"
     ]
    },
    {
     "cell_type": "code",
     "collapsed": false,
     "input": [
      "onenormobjdf = pd.read_pickle(\"Data/onenormobjdf\")"
     ],
     "language": "python",
     "metadata": {},
     "outputs": [],
     "prompt_number": 6
    },
    {
     "cell_type": "code",
     "collapsed": false,
     "input": [
      "obj1name = obj1.name\n",
      "obj2name = obj2.name\n",
      "obj3name = obj3.name"
     ],
     "language": "python",
     "metadata": {},
     "outputs": [],
     "prompt_number": 7
    },
    {
     "cell_type": "heading",
     "level": 2,
     "metadata": {},
     "source": [
      "2.2 Format chart names"
     ]
    },
    {
     "cell_type": "raw",
     "metadata": {},
     "source": [
      "Objective names for charts (including arrows for direction of preference)"
     ]
    },
    {
     "cell_type": "code",
     "collapsed": false,
     "input": [
      "obj1chartname = 'Minimum Storage (ML)     %s' % u'\\u2192'\n",
      "obj2chartname = '%s    Total Cost ($million)' % u'\\u2190'\n",
      "obj3chartname = '%s    Total Spill (ML)' % u'\\u2190'"
     ],
     "language": "python",
     "metadata": {},
     "outputs": [],
     "prompt_number": 8
    },
    {
     "cell_type": "heading",
     "level": 2,
     "metadata": {},
     "source": [
      "2.3 Enter weights for compromise programming"
     ]
    },
    {
     "cell_type": "raw",
     "metadata": {},
     "source": [
      "Enter objective weights for objectives 1 and 2 (objective 3 automatically determined)"
     ]
    },
    {
     "cell_type": "code",
     "collapsed": false,
     "input": [
      "obj1weights = [30, 60, 20, 33.33]\n",
      "obj2weights = [40, 30, 50, 33.33]"
     ],
     "language": "python",
     "metadata": {},
     "outputs": [],
     "prompt_number": 9
    },
    {
     "cell_type": "heading",
     "level": 1,
     "metadata": {},
     "source": [
      "3. Execution: Processing, Compromise Programming and Output"
     ]
    },
    {
     "cell_type": "heading",
     "level": 2,
     "metadata": {},
     "source": [
      "3.1 Create dataframe of weights"
     ]
    },
    {
     "cell_type": "raw",
     "metadata": {},
     "source": [
      "Determine objective 3 weights and create dataframe of weights"
     ]
    },
    {
     "cell_type": "code",
     "collapsed": false,
     "input": [
      "obj3weights = []\n",
      "\n",
      "for i in range(0, len(obj1weights)):\n",
      "    obj3weights.append(100 - obj1weights[i] - obj2weights[i])\n",
      "\n",
      "objweightsdict = {obj1name: obj1weights, obj2name: obj2weights, obj3name: obj3weights}\n",
      "weights = pd.DataFrame(objweightsdict)"
     ],
     "language": "python",
     "metadata": {},
     "outputs": [],
     "prompt_number": 10
    },
    {
     "cell_type": "heading",
     "level": 2,
     "metadata": {},
     "source": [
      "3.2 Compromise programming"
     ]
    },
    {
     "cell_type": "raw",
     "metadata": {},
     "source": [
      "Determine CP min distance for each set of weights"
     ]
    },
    {
     "cell_type": "code",
     "collapsed": false,
     "input": [
      "allresults = None\n",
      "\n",
      "for i in range(0, len(weights)):\n",
      "    title = '%d%s %s, %d%s %s, %d%s %s' \\\n",
      "        % (weights[obj1name][i],'%',obj1name,weights[obj2name][i],'%',obj2name,weights[obj3name][i],'%',obj3name)\n",
      "    objweights = weights.ix[i]\n",
      "    results = cpdistance(objweights, onenormobjdf, title) # calculating distance\n",
      "    if allresults is None:\n",
      "        allresults = results\n",
      "    else:\n",
      "        allresults = allresults.join(results)\n",
      "        \n",
      "    cpmindistpoint = cpmindist(results)\n",
      "    \n",
      "    print(\"Minimum distance point %s:\" % (title), abs(objdf.ix[cpmindistpoint]))\n",
      "    \n",
      "    scatterplot(results, cpmindistpoint, obj1, obj2, obj3, obj1chartname, obj2chartname, obj3chartname, weights.ix[i], 'Compromise Programming/%s' % title)\n",
      "\n",
      "allresults.to_csv('Compromise Programming/Compromise Programming Results.csv')"
     ],
     "language": "python",
     "metadata": {},
     "outputs": [
      {
       "output_type": "stream",
       "stream": "stdout",
       "text": [
        "('Minimum distance point 30% Minimum System Storage (GL), 40% Total Cost ($ million), 30% Total Spill Volume (GL):',      Minimum System Storage (GL)  Total Cost ($ million)  \\\n",
        "471                   330.012132             5181.141336   \n",
        "\n",
        "     Total Spill Volume (GL)  \n",
        "471               327.680565  \n",
        "\n",
        "[1 rows x 3 columns])\n",
        "('Minimum distance point 60% Minimum System Storage (GL), 30% Total Cost ($ million), 10% Total Spill Volume (GL):',      Minimum System Storage (GL)  Total Cost ($ million)  \\\n",
        "672                    359.05769             5200.568572   \n",
        "\n",
        "     Total Spill Volume (GL)  \n",
        "672               357.311418  \n",
        "\n",
        "[1 rows x 3 columns])"
       ]
      },
      {
       "output_type": "stream",
       "stream": "stdout",
       "text": [
        "\n",
        "('Minimum distance point 20% Minimum System Storage (GL), 50% Total Cost ($ million), 30% Total Spill Volume (GL):',      Minimum System Storage (GL)  Total Cost ($ million)  \\\n",
        "471                   330.012132             5181.141336   \n",
        "\n",
        "     Total Spill Volume (GL)  \n",
        "471               327.680565  \n",
        "\n",
        "[1 rows x 3 columns])"
       ]
      },
      {
       "output_type": "stream",
       "stream": "stdout",
       "text": [
        "\n",
        "('Minimum distance point 33% Minimum System Storage (GL), 33% Total Cost ($ million), 33% Total Spill Volume (GL):',      Minimum System Storage (GL)  Total Cost ($ million)  \\\n",
        "471                   330.012132             5181.141336   \n",
        "\n",
        "     Total Spill Volume (GL)  \n",
        "471               327.680565  \n",
        "\n",
        "[1 rows x 3 columns])"
       ]
      },
      {
       "output_type": "stream",
       "stream": "stdout",
       "text": [
        "\n"
       ]
      }
     ],
     "prompt_number": 11
    },
    {
     "cell_type": "heading",
     "level": 2,
     "metadata": {},
     "source": [
      "3.3 Scatterplot results"
     ]
    },
    {
     "cell_type": "raw",
     "metadata": {},
     "source": [
      "Select scenarios"
     ]
    },
    {
     "cell_type": "code",
     "collapsed": false,
     "input": [
      "scenario1 = allresults[allresults.columns[0]].idxmin()\n",
      "scenario2 = allresults[allresults.columns[1]].idxmin()\n",
      "\n",
      "scenario1name = 'Weights: %d%s Minimum Storage, %d%s Total Cost, %d%s Total Spill'  % (weights.ix[0,0],'%',weights.ix[0,1],'%',weights.ix[0,2],'%')\n",
      "scenario2name = 'Weights: %d%s Minimum Storage, %d%s Total Cost, %d%s Total Spill'  % (weights.ix[1,0],'%',weights.ix[1,1],'%',weights.ix[1,2],'%')"
     ],
     "language": "python",
     "metadata": {},
     "outputs": [],
     "prompt_number": 12
    },
    {
     "cell_type": "raw",
     "metadata": {},
     "source": [
      "Scatterplot showing two scenarios from above results"
     ]
    },
    {
     "cell_type": "code",
     "collapsed": false,
     "input": [
      "# create categories of colours for plotting and highlighting results\n",
      "scatcol = []\n",
      "for i in range(0, len(obj1)):\n",
      "    scatcol.append(\"gray\")\n",
      "scatcol[scenario1] = (\"red\")\n",
      "scatcol[scenario2] = (\"blue\")\n",
      "    \n",
      "fig = plt.figure(figsize = [10,10])\n",
      "ax = Axes3D(fig)\n",
      "\n",
      "category = {}\n",
      "for i in range(0, len(obj1)):\n",
      "    if i == scenario1:\n",
      "        category[i] = 1\n",
      "    elif i == scenario2:\n",
      "        category[i] = 1\n",
      "    else:\n",
      "        category[i] = 0\n",
      "markers = {0:'.', 1:'o'}\n",
      "size = {0:60, 1:150}\n",
      "\n",
      "for i in category:\n",
      "    ax.scatter(obj1[i], obj2[i], obj3[i], s = size[category[i]], c = scatcol[i], marker = markers[category[i]], alpha = 0.7)\n",
      "\n",
      "ax.set_xlabel(obj1chartname)\n",
      "ax.set_ylabel(obj2chartname)\n",
      "ax.set_zlabel(obj3chartname)\n",
      "\n",
      "red = mpl.lines.Line2D([0],[0], marker = 'o', color = 'red', linestyle = 'none')\n",
      "blue = mpl.lines.Line2D([0], [0], marker = 'o', color = 'blue', linestyle = 'none')\n",
      "ax.legend((red, blue), (scenario1name, scenario2name), \n",
      "          numpoints = 1, loc = 'upper right', fontsize = 'small')\n",
      "\n",
      "plt.savefig('Compromise Programming/Two scenario compromise scatterplot.png', dpi=150)\n",
      "plt.close(fig)"
     ],
     "language": "python",
     "metadata": {},
     "outputs": [],
     "prompt_number": 13
    },
    {
     "cell_type": "code",
     "collapsed": false,
     "input": [],
     "language": "python",
     "metadata": {},
     "outputs": [],
     "prompt_number": 13
    }
   ],
   "metadata": {}
  }
 ]
}