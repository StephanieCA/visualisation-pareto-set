{
 "cells": [
  {
   "cell_type": "code",
   "execution_count": 1,
   "metadata": {
    "collapsed": false
   },
   "outputs": [],
   "source": [
    "import matplotlib.pyplot as plt\n",
    "import matplotlib as mpl\n",
    "import pandas as pd\n",
    "import numpy as np"
   ]
  },
  {
   "cell_type": "markdown",
   "metadata": {},
   "source": [
    "# 1. Input Pareto set"
   ]
  },
  {
   "cell_type": "markdown",
   "metadata": {},
   "source": [
    "## 1.1 Input normalised objective functions (0 preferred, 1 least preferred)"
   ]
  },
  {
   "cell_type": "code",
   "execution_count": 2,
   "metadata": {
    "collapsed": false
   },
   "outputs": [],
   "source": [
    "normmedoiddf = pd.read_pickle(\"Data/normmedoiddf\")"
   ]
  },
  {
   "cell_type": "markdown",
   "metadata": {},
   "source": [
    "# 2. Plot heatmap"
   ]
  },
  {
   "cell_type": "code",
   "execution_count": 3,
   "metadata": {
    "collapsed": false
   },
   "outputs": [],
   "source": [
    "fig = plt.figure(figsize = [0.5*(len(normmedoiddf.columns)+5),0.5*len(normmedoiddf.index)])\n",
    "\n",
    "plt.pcolor(normmedoiddf, cmap = plt.cm.Blues)\n",
    "\n",
    "plt.yticks(np.arange(0.5, len(normmedoiddf.index)), normmedoiddf.index+1)\n",
    "\n",
    "plt.xticks(np.arange(0.5, len(normmedoiddf.columns)), normmedoiddf.columns, rotation = 45,\n",
    "           horizontalalignment = 'right')\n",
    "\n",
    "plt.xlim((0, len(normmedoiddf.columns)))\n",
    "\n",
    "plt.ylabel(\"Medoid\")\n",
    "\n",
    "cb = plt.colorbar()\n",
    "cb.set_ticks((0.01,0.1,0.2,0.3,0.4,0.5,0.6,0.7,0.8,0.9,1.0))\n",
    "cb.set_ticklabels(('0/Best','0.1','0.2','0.3','0.4','0.5','0.6','0.7','0.8','0.9','1/Worst'))\n",
    "\n",
    "plt.savefig(\"Heatmaps/heatmap.png\", bbox_inches='tight')\n",
    "plt.savefig(\"Heatmaps/heatmap.eps\", bbox_inches='tight')\n",
    "plt.close()"
   ]
  },
  {
   "cell_type": "code",
   "execution_count": null,
   "metadata": {
    "collapsed": true
   },
   "outputs": [],
   "source": []
  }
 ],
 "metadata": {
  "kernelspec": {
   "display_name": "Python 2",
   "language": "python",
   "name": "python2"
  },
  "language_info": {
   "codemirror_mode": {
    "name": "ipython",
    "version": 2
   },
   "file_extension": ".py",
   "mimetype": "text/x-python",
   "name": "python",
   "nbconvert_exporter": "python",
   "pygments_lexer": "ipython2",
   "version": "2.7.6"
  }
 },
 "nbformat": 4,
 "nbformat_minor": 0
}
