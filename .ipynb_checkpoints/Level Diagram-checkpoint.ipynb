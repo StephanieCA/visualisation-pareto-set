{
 "cells": [
  {
   "cell_type": "code",
   "execution_count": 1,
   "metadata": {
    "collapsed": false
   },
   "outputs": [],
   "source": [
    "import pandas as pd\n",
    "import matplotlib.pyplot as plt\n",
    "import matplotlib as mpl"
   ]
  },
  {
   "cell_type": "markdown",
   "metadata": {},
   "source": [
    "# 1. User Input"
   ]
  },
  {
   "cell_type": "markdown",
   "metadata": {},
   "source": [
    "## 1.1 Import and format Pareto optimal solutions"
   ]
  },
  {
   "cell_type": "markdown",
   "metadata": {},
   "source": [
    "Import optimisation results (Pareto set)"
   ]
  },
  {
   "cell_type": "code",
   "execution_count": 2,
   "metadata": {
    "collapsed": false
   },
   "outputs": [],
   "source": [
    "opdata = pd.read_pickle(\"Data/opdata\")"
   ]
  },
  {
   "cell_type": "markdown",
   "metadata": {},
   "source": [
    "Import normalised (0 best, 1 worst) objective function data"
   ]
  },
  {
   "cell_type": "code",
   "execution_count": 3,
   "metadata": {
    "collapsed": false
   },
   "outputs": [],
   "source": [
    "normobjdf = pd.read_pickle(\"Data/normobjdf\")"
   ]
  },
  {
   "cell_type": "markdown",
   "metadata": {},
   "source": [
    "Create dataframe of data to be plotted (select columns)"
   ]
  },
  {
   "cell_type": "code",
   "execution_count": 4,
   "metadata": {
    "collapsed": false
   },
   "outputs": [],
   "source": [
    "# remember due to Python numbering to start at zero end one column after that which you want\n",
    "plotdf = pd.DataFrame(opdata, columns = [opdata.columns[0:19]])"
   ]
  },
  {
   "cell_type": "markdown",
   "metadata": {},
   "source": [
    "Rename columns to better fit in plot"
   ]
  },
  {
   "cell_type": "code",
   "execution_count": 16,
   "metadata": {
    "collapsed": false
   },
   "outputs": [
    {
     "name": "stdout",
     "output_type": "stream",
     "text": [
      "Index([u'NPI2 Threshold', u'NPI2 Flow Threshold', u'NPI Threshold',\n",
      "       u'NPI Flow Threshold', u'Brisbane to Nth Pine Threshold',\n",
      "       u'Brisbane to Nth Pine Flow Threshold', u'Maroochy to Baroon Threshold',\n",
      "       u'Ewen Maddock to Baroon Threshold', u'EPI Threshold',\n",
      "       u'EPI Flow Threshold', u'SPI Threshold', u'SPI Flow Threshold',\n",
      "       u'PRW Threshold', u'Desalination 1/3 Production Threshold',\n",
      "       u'Desalination 2/3 Production Threshold',\n",
      "       u'Desalination Full Production Threshold', u'Total Spill Volume (GL)',\n",
      "       u'Minimum System Storage (GL)', u'Total Cost ($ million)'],\n",
      "      dtype='object')\n"
     ]
    }
   ],
   "source": [
    "print plotdf.columns"
   ]
  },
  {
   "cell_type": "code",
   "execution_count": 49,
   "metadata": {
    "collapsed": true
   },
   "outputs": [],
   "source": [
    "replacementcolumns = ['NPI2', 'NPI2 Flow', 'NPI', 'NPI Flow', \n",
    "                      'Brisbane to Nth Pine', 'Brisb. to Nth Pine Flow', \n",
    "                      'Maroochy to Baroon', 'Ewen Maddock to Baroon', \n",
    "                      'EPI', 'EPI Flow', 'SPI Threshold', 'SPI Flow',\n",
    "                      'PRW', 'Desal 1/3 Production', 'Desal 2/3 Production',\n",
    "                      'Desalination Full Production', 'Total Spill (GL)',\n",
    "                      'Minimum Storage (GL)', 'Total Cost ($ million)']"
   ]
  },
  {
   "cell_type": "code",
   "execution_count": 50,
   "metadata": {
    "collapsed": true
   },
   "outputs": [],
   "source": [
    "for i in range(len(plotdf.columns)):\n",
    "    plotdf.rename(columns={plotdf.columns[i]:replacementcolumns[i]}, inplace=True)"
   ]
  },
  {
   "cell_type": "markdown",
   "metadata": {},
   "source": [
    "Create dataframe of ticks for plotting"
   ]
  },
  {
   "cell_type": "code",
   "execution_count": 51,
   "metadata": {
    "collapsed": false
   },
   "outputs": [],
   "source": [
    "ticks = {}\n",
    "for i in range(0, 16): # decision variables\n",
    "    ticks[plotdf.columns[i]] = [0,0.2,0.4,0.6,0.8,1.0]\n",
    "ticks[plotdf.columns[16]] = [350,450,550] # obj 1 \n",
    "ticks[plotdf.columns[17]] = [150,250,350,450] # obj3\n",
    "ticks[plotdf.columns[18]] = [5200,5300,5400,5500] # obj2"
   ]
  },
  {
   "cell_type": "markdown",
   "metadata": {},
   "source": [
    "## 1.2 Import cluster membership information"
   ]
  },
  {
   "cell_type": "code",
   "execution_count": 6,
   "metadata": {
    "collapsed": false
   },
   "outputs": [],
   "source": [
    "clusternos = pd.read_pickle('Data/clusternos')"
   ]
  },
  {
   "cell_type": "markdown",
   "metadata": {},
   "source": [
    "## 1.3 Specify cluster colours"
   ]
  },
  {
   "cell_type": "raw",
   "metadata": {},
   "source": [
    "Create colour map for clusters (add colours to taste, and depending on number of clusters)"
   ]
  },
  {
   "cell_type": "code",
   "execution_count": 7,
   "metadata": {
    "collapsed": false
   },
   "outputs": [],
   "source": [
    "clustcols = pd.read_pickle(\"Data/clustercolours\")"
   ]
  },
  {
   "cell_type": "raw",
   "metadata": {},
   "source": [
    "Enter list of colours, for each decision option (based on cluster membership)"
   ]
  },
  {
   "cell_type": "code",
   "execution_count": 8,
   "metadata": {
    "collapsed": false
   },
   "outputs": [],
   "source": [
    "clustcollist = pd.read_pickle(\"Data/clustcollist\")"
   ]
  },
  {
   "cell_type": "markdown",
   "metadata": {},
   "source": [
    "# 2. Functions"
   ]
  },
  {
   "cell_type": "markdown",
   "metadata": {},
   "source": [
    "## 2.1 Function to sum normalised objective performance for level diagram"
   ]
  },
  {
   "cell_type": "raw",
   "metadata": {},
   "source": [
    "Input: 1-normalised dataframe of objective functions (0 best, 1 worst)"
   ]
  },
  {
   "cell_type": "code",
   "execution_count": 9,
   "metadata": {
    "collapsed": false
   },
   "outputs": [],
   "source": [
    "def lev1norm(normdf):\n",
    "    lev1norm = []\n",
    "    for i in range(0, len(normdf)):\n",
    "        lev1norm.append(sum(normdf.ix[i]))\n",
    "    lev1normdf = pd.DataFrame({'1-norm': lev1norm})\n",
    "    return lev1normdf"
   ]
  },
  {
   "cell_type": "markdown",
   "metadata": {},
   "source": [
    "## 2.2 Function to determine number of rows and columns of subplots"
   ]
  },
  {
   "cell_type": "raw",
   "metadata": {},
   "source": [
    "Creates a list showing dimensions (rows and columns) of subplots, for a given number of plots. Columns is given the greater of two dimensions, where relevant."
   ]
  },
  {
   "cell_type": "code",
   "execution_count": 10,
   "metadata": {
    "collapsed": false
   },
   "outputs": [],
   "source": [
    "def dimensions(numplots):\n",
    "    cols = int(numplots**0.5) + (numplots % numplots**0.5 > 0) # rounds up the square root of numplots\n",
    "    rows = int(numplots/cols) + (numplots % cols > 0) # rounds up the numplots divided by num cols\n",
    "    return [rows, cols]"
   ]
  },
  {
   "cell_type": "markdown",
   "metadata": {},
   "source": [
    "# 3. Execution"
   ]
  },
  {
   "cell_type": "markdown",
   "metadata": {},
   "source": [
    "## 3.1 Determine 1-norm"
   ]
  },
  {
   "cell_type": "raw",
   "metadata": {},
   "source": [
    "Apply 1-norm function to obtain dataframe of 1-norm values"
   ]
  },
  {
   "cell_type": "code",
   "execution_count": 11,
   "metadata": {
    "collapsed": false
   },
   "outputs": [],
   "source": [
    "objs1norm = lev1norm(normobjdf)"
   ]
  },
  {
   "cell_type": "markdown",
   "metadata": {},
   "source": [
    "## 3.2 Plot level diagram"
   ]
  },
  {
   "cell_type": "raw",
   "metadata": {},
   "source": [
    "Plot of objectives and decision variables against 1-norm"
   ]
  },
  {
   "cell_type": "code",
   "execution_count": 54,
   "metadata": {
    "collapsed": false
   },
   "outputs": [],
   "source": [
    "numplots = len(plotdf.columns)\n",
    "dims = dimensions(numplots + 1) # add one for space for legend\n",
    "\n",
    "fig = plt.figure(figsize = [dims[1]*3*1.25, dims[0]*3]) \n",
    "    #figsize adjusted for extra wspace between plots to alow for long xlabels\n",
    "fig.subplots_adjust(wspace=0.3, hspace = 0.3)\n",
    "\n",
    "#create alphabet for enumerating subplots\n",
    "letter = map(chr, range(65, 65+len(plotdf.columns)))\n",
    "\n",
    "for i in range(0, numplots):\n",
    "    column = plotdf.columns[i]\n",
    "    ax = fig.add_subplot(dims[0], dims[1], i+1)\n",
    "    ax.scatter(abs(plotdf[column]), objs1norm[objs1norm.columns[0]], s = 60, c = clustcollist, marker = 'o')\n",
    "    ax.set_xlabel('(%s) %s' % (letter[i], column), fontsize = 'large')\n",
    "    ax.set_ylabel(objs1norm.columns[0], fontsize = 'large')\n",
    "    ax.set_xticks(ticks[column])\n",
    "    \n",
    "# add subplot space for legend\n",
    "axleg = fig.add_subplot(dims[0], dims[1], numplots + 1)\n",
    "axleg.axis('off')\n",
    "\n",
    "# create legend for clusters with points (coloured circles) and labels (cluster number)\n",
    "legpts = []    \n",
    "leglabs = []\n",
    "for i in range(0, max(clusternos[clusternos.columns[0]])):\n",
    "    legpt = mpl.lines.Line2D([0], [0], marker = 'o', ms = 10, color = clustcols[i], linestyle = 'none')\n",
    "    legpts.append(legpt)\n",
    "    leglab = 'Cluster %d' % (i + 1)\n",
    "    leglabs.append(leglab)\n",
    "axleg.legend(legpts, leglabs, numpoints = 1, loc = [0.2, -0.2], fontsize = 'medium')\n",
    "    \n",
    "plt.savefig('Level Diagram/leveldiagram.png', dpi = 100, bbox_inches = 'tight')\n",
    "plt.savefig('Level Diagram/leveldiagram.eps', bbox_inches = 'tight')\n",
    "\n",
    "plt.close(fig)"
   ]
  },
  {
   "cell_type": "markdown",
   "metadata": {},
   "source": [
    "# 4. Find index of minimum 1-norm for shortlist"
   ]
  },
  {
   "cell_type": "code",
   "execution_count": null,
   "metadata": {
    "collapsed": false
   },
   "outputs": [],
   "source": [
    "print objs1norm.idxmin()"
   ]
  }
 ],
 "metadata": {
  "kernelspec": {
   "display_name": "Python 2",
   "language": "python",
   "name": "python2"
  },
  "language_info": {
   "codemirror_mode": {
    "name": "ipython",
    "version": 2
   },
   "file_extension": ".py",
   "mimetype": "text/x-python",
   "name": "python",
   "nbconvert_exporter": "python",
   "pygments_lexer": "ipython2",
   "version": "2.7.6"
  }
 },
 "nbformat": 4,
 "nbformat_minor": 0
}
