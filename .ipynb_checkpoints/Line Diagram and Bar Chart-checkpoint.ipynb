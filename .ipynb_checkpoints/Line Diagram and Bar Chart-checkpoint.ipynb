{
 "cells": [
  {
   "cell_type": "code",
   "execution_count": 1,
   "metadata": {
    "collapsed": false
   },
   "outputs": [],
   "source": [
    "# Loading\n",
    "import matplotlib.pyplot as plt\n",
    "import matplotlib as mpl\n",
    "import pandas as pd\n",
    "import numpy as np\n",
    "import matplotlib.cm as cm"
   ]
  },
  {
   "cell_type": "markdown",
   "metadata": {},
   "source": [
    "# 1 User input"
   ]
  },
  {
   "cell_type": "markdown",
   "metadata": {},
   "source": [
    "## 1.1 Input normalised cluster medoids"
   ]
  },
  {
   "cell_type": "raw",
   "metadata": {},
   "source": [
    "Enter normalised objective function medoids"
   ]
  },
  {
   "cell_type": "code",
   "execution_count": 2,
   "metadata": {
    "collapsed": false
   },
   "outputs": [],
   "source": [
    "normmedoidobjdf = pd.read_pickle(\"Data/normmedoidobjdf\")"
   ]
  },
  {
   "cell_type": "markdown",
   "metadata": {},
   "source": [
    "## 1.2 Create colormap for objective functions"
   ]
  },
  {
   "cell_type": "code",
   "execution_count": 3,
   "metadata": {
    "collapsed": false
   },
   "outputs": [],
   "source": [
    "colorpool = [\"red\", \"blue\", \"green\"]\n",
    "cmap = mpl.colors.ListedColormap(colorpool, 'objcolors')\n",
    "mpl.cm.register_cmap(name = 'objcolors', cmap = cmap)"
   ]
  },
  {
   "cell_type": "markdown",
   "metadata": {},
   "source": [
    "# 2 Execution"
   ]
  },
  {
   "cell_type": "markdown",
   "metadata": {},
   "source": [
    "## 2.1 Create line diagram of medoids"
   ]
  },
  {
   "cell_type": "code",
   "execution_count": 4,
   "metadata": {
    "collapsed": false
   },
   "outputs": [],
   "source": [
    "ax = plt.figure(figsize=(9, 7)).add_subplot(111)\n",
    "\n",
    "normmedoidobjdf.plot(ax=ax, colormap = 'objcolors', style = ['-', '--', ':'], lw = 2)\n",
    "\n",
    "ax.set_xticks(range(0, len(normmedoidobjdf)))\n",
    "ax.set_xticklabels(range(1, len(normmedoidobjdf)+1))\n",
    "ax.set_yticklabels(['Best/0', 0.2, 0.4, 0.6, 0.8, 'Worst/1'])\n",
    "\n",
    "ax.set_xlabel(\"Cluster Medoids\")\n",
    "ax.set_ylabel(\"Normalised objective function performance\")\n",
    "\n",
    "# save and close figure\n",
    "plt.savefig('Line Diagram and Bar Chart/line diagram.png', dpi = 150, bbox_inches = 'tight')\n",
    "plt.savefig('Line Diagram and Bar Chart/line diagram.eps', bbox_inches = 'tight')\n",
    "plt.close()"
   ]
  },
  {
   "cell_type": "markdown",
   "metadata": {},
   "source": [
    "## 2.2 Create bar chart of medoids"
   ]
  },
  {
   "cell_type": "code",
   "execution_count": 5,
   "metadata": {
    "collapsed": false
   },
   "outputs": [],
   "source": [
    "ax = plt.figure(figsize = (9,7)).add_subplot(111)\n",
    "\n",
    "normmedoidobjdf.plot(ax=ax, kind = 'bar', legend = False, colormap = 'objcolors', rot = 0)\n",
    "\n",
    "bars = ax.patches\n",
    "hatches = ''.join(h*len(normmedoidobjdf) for h in 'x/0.')\n",
    "\n",
    "for bar, hatch in zip(bars, hatches):\n",
    "    bar.set_hatch(hatch)\n",
    "\n",
    "ax.legend(loc = 0)\n",
    "\n",
    "ax.set_xticklabels(range(1, len(normmedoidobjdf)+1))\n",
    "ax.set_yticklabels(['Best/0', 0.2, 0.4, 0.6, 0.8, 'Worst/1'])\n",
    "\n",
    "ax.set_xlabel(\"Cluster Medoids\")\n",
    "ax.set_ylabel(\"Normalised objective function performance\")\n",
    "\n",
    "# save and close figure\n",
    "plt.savefig('Line Diagram and Bar Chart/bar chart.png', dpi = 150, bbox_inches = 'tight')\n",
    "plt.savefig('Line Diagram and Bar Chart/bar chart.eps', bbox_inches = 'tight')\n",
    "plt.close()"
   ]
  },
  {
   "cell_type": "code",
   "execution_count": null,
   "metadata": {
    "collapsed": false
   },
   "outputs": [],
   "source": []
  }
 ],
 "metadata": {
  "kernelspec": {
   "display_name": "Python 2",
   "language": "python",
   "name": "python2"
  },
  "language_info": {
   "codemirror_mode": {
    "name": "ipython",
    "version": 2
   },
   "file_extension": ".py",
   "mimetype": "text/x-python",
   "name": "python",
   "nbconvert_exporter": "python",
   "pygments_lexer": "ipython2",
   "version": "2.7.6"
  }
 },
 "nbformat": 4,
 "nbformat_minor": 0
}
