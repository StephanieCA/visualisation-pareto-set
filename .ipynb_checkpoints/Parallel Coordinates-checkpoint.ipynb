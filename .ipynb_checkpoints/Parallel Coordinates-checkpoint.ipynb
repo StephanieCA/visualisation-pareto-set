{
 "metadata": {
  "name": ""
 },
 "nbformat": 3,
 "nbformat_minor": 0,
 "worksheets": [
  {
   "cells": [
    {
     "cell_type": "code",
     "collapsed": false,
     "input": [
      "import pandas as pd\n",
      "import matplotlib.pyplot as plt\n",
      "import matplotlib as mpl\n",
      "import itertools\n",
      "import re\n",
      "import numpy as np"
     ],
     "language": "python",
     "metadata": {},
     "outputs": [],
     "prompt_number": 25
    },
    {
     "cell_type": "heading",
     "level": 1,
     "metadata": {},
     "source": [
      "1. User Input"
     ]
    },
    {
     "cell_type": "heading",
     "level": 2,
     "metadata": {},
     "source": [
      "1.1 Import and format Pareto optimal solutions"
     ]
    },
    {
     "cell_type": "raw",
     "metadata": {},
     "source": [
      "Import dataframe of objective results from pickle"
     ]
    },
    {
     "cell_type": "code",
     "collapsed": false,
     "input": [
      "normobjdf = pd.read_pickle(\"Data/normobjdf\")"
     ],
     "language": "python",
     "metadata": {},
     "outputs": [],
     "prompt_number": 26
    },
    {
     "cell_type": "raw",
     "metadata": {},
     "source": [
      "Create chart names for objectives \n",
      "# check these correspond in order to normobjdf columns"
     ]
    },
    {
     "cell_type": "code",
     "collapsed": false,
     "input": [
      "obj1name = normobjdf.columns[0]\n",
      "obj2name = normobjdf.columns[1]\n",
      "obj3name = normobjdf.columns[2]"
     ],
     "language": "python",
     "metadata": {},
     "outputs": [],
     "prompt_number": 27
    },
    {
     "cell_type": "raw",
     "metadata": {},
     "source": [
      "Import decision variable dataframe of optimisation results"
     ]
    },
    {
     "cell_type": "code",
     "collapsed": false,
     "input": [
      "dvdf = pd.read_pickle(\"Data/dvdf\")"
     ],
     "language": "python",
     "metadata": {},
     "outputs": [],
     "prompt_number": 28
    },
    {
     "cell_type": "heading",
     "level": 2,
     "metadata": {},
     "source": [
      "1.2 Import cluster numbers for visualisation"
     ]
    },
    {
     "cell_type": "code",
     "collapsed": false,
     "input": [
      "clusternos = pd.read_pickle('Data/clusternos')"
     ],
     "language": "python",
     "metadata": {},
     "outputs": [],
     "prompt_number": 29
    },
    {
     "cell_type": "heading",
     "level": 2,
     "metadata": {},
     "source": [
      "1.3 Enter thresholds for brushed plots"
     ]
    },
    {
     "cell_type": "raw",
     "metadata": {},
     "source": [
      "Brushes define the objective performance scenarios of interest."
     ]
    },
    {
     "cell_type": "code",
     "collapsed": false,
     "input": [
      "# Enter threshold for brushing top performing scenarios\n",
      "topbrush = 0.05\n",
      "# Enter threshold for brushing mid performing scenarios\n",
      "upperbrush = 0.45\n",
      "lowerbrush = 0.55"
     ],
     "language": "python",
     "metadata": {},
     "outputs": [],
     "prompt_number": 30
    },
    {
     "cell_type": "heading",
     "level": 2,
     "metadata": {},
     "source": [
      "1.4 Enter shortlist category for brushing plot with shortlisted solutions."
     ]
    },
    {
     "cell_type": "code",
     "collapsed": false,
     "input": [
      "shortlist = pd.read_pickle(\"Data/shortlist\")"
     ],
     "language": "python",
     "metadata": {},
     "outputs": [],
     "prompt_number": 31
    },
    {
     "cell_type": "heading",
     "level": 2,
     "metadata": {},
     "source": [
      "1.5 Colour maps"
     ]
    },
    {
     "cell_type": "raw",
     "metadata": {},
     "source": [
      "One colormap for clusters.\n",
      "Cpool 1 and 2 are for brushing and may require editing for correct order of highlighting, which is based on what category appears first. Non-highlighted options should be a light/gray colour. \n",
      "Cpool 1 includes objective colours should preferably match those used in other figures."
     ]
    },
    {
     "cell_type": "code",
     "collapsed": false,
     "input": [
      "cpool1 = ['Green', 'Gainsboro', 'red', 'MediumBlue']\n",
      "cpool2 = ['Gainsboro', 'Red']\n",
      "clustcol = pd.read_pickle('Data/clustercolours')\n",
      "shortcol = ['brown', 'Gainsboro', 'red', 'magenta', 'yellow', 'aqua', 'Green', \n",
      "            'SteelBlue', 'Navy', 'purple', 'Black']\n",
      "\n",
      "cmap1 = mpl.colors.ListedColormap(cpool1, 'narrowcolors')\n",
      "mpl.cm.register_cmap(name = 'narrowcolormap', cmap = cmap1)\n",
      "\n",
      "cmap2 = mpl.colors.ListedColormap(cpool2, 'twocolors')\n",
      "mpl.cm.register_cmap(name = 'twocolormap', cmap = cmap2)\n",
      "\n",
      "cmap3 = mpl.colors.ListedColormap(clustcol, 'clustcolors')\n",
      "mpl.cm.register_cmap(name = 'clustcolormap', cmap = cmap3)\n",
      "\n",
      "cmap4 = mpl.colors.ListedColormap(shortcol, 'shortcolors')\n",
      "mpl.cm.register_cmap(name = 'shortcolormap', cmap = cmap4)"
     ],
     "language": "python",
     "metadata": {},
     "outputs": [],
     "prompt_number": 41
    },
    {
     "cell_type": "heading",
     "level": 1,
     "metadata": {},
     "source": [
      "2. Functions"
     ]
    },
    {
     "cell_type": "heading",
     "level": 2,
     "metadata": {},
     "source": [
      "2.1 Parallel coordinates plotting function"
     ]
    },
    {
     "cell_type": "raw",
     "metadata": {},
     "source": [
      "Function to generate parallel coordinates plot and save to png file.\n",
      "Arguments:\n",
      "data = dataframe to be plotted\n",
      "filename = filename to save as (under Parallel Coordinates folder)\n",
      "category = series that defines the category to plot to (cluster membership)\n",
      "category_name = column name for category\n",
      "colormap = colormap for plotting category\n",
      "ylabel = y axis label"
     ]
    },
    {
     "cell_type": "code",
     "collapsed": false,
     "input": [
      "def parallelcoords(data, filename, category, category_name, colormap, ylabel):\n",
      "    \n",
      "    paralleldata = pd.DataFrame(data, copy = True)\n",
      "    \n",
      "    paralleldata[category_name] = category\n",
      "    \n",
      "    fig = plt.figure(figsize = [15,8])\n",
      "    ax = fig.add_subplot(1,1,1)\n",
      "    parallelcolors = mpl.cm.get_cmap(colormap)\n",
      "\n",
      "    pd.tools.plotting.parallel_coordinates(paralleldata, category_name, lw = 2, alpha = 0.5, colormap = parallelcolors)\n",
      "    \n",
      "    ax.set_xticklabels(data.columns, rotation = 45, horizontalalignment = 'right', fontsize = 'medium')\n",
      "    ax.set_yticklabels(['Best/0', 0.2, 0.4, 0.6, 0.8, 'Worst/1'])\n",
      "    ax.set_ylabel(ylabel, fontsize = 'x-large')\n",
      "    ax.legend(loc = \"best\")\n",
      "\n",
      "    replace_newlines = lambda s: s.replace('\\n', ' ') # function to remove column newlines for filenames   \n",
      "    pngfilename = 'Parallel Coordinates/%s.png' % (replace_newlines(filename))\n",
      "    \n",
      "    plt.savefig(pngfilename, dpi = 80, bbox_inches='tight')\n",
      "    plt.close(fig)"
     ],
     "language": "python",
     "metadata": {},
     "outputs": [],
     "prompt_number": 33
    },
    {
     "cell_type": "heading",
     "level": 2,
     "metadata": {},
     "source": [
      "2.2 Brushing functions"
     ]
    },
    {
     "cell_type": "code",
     "collapsed": false,
     "input": [
      "# Function to create category column to 'brush' for one objective of interest less than or equal to xth percentile.\n",
      "def brushlessthan(objtitle, objcattitle, data, percentile): \n",
      "        #e.g. 'Total Cost', 'Total Cost Category', dataframe, 0.05\n",
      "    replace_newlines = lambda s: s.replace('\\n', ' ') # function to remove column newlines objtitle \n",
      "    objcat = []\n",
      "    threshold = np.percentile(data[objtitle], percentile*100)\n",
      "    for i in range(0, len(data[objtitle])): \n",
      "        if (data[objtitle][i] <= threshold):\n",
      "            objcat.append('Top %s%s %s' % (int(percentile*100), '%', replace_newlines(objtitle)))\n",
      "        else: objcat.append('Other options')\n",
      "    objcat = pd.DataFrame({objcattitle: objcat})\n",
      "    return objcat\n",
      "\n",
      "# Function to create category column to 'brush' for objectives of interest between xth and yth percentiles.\n",
      "def brush(objtitle, objcattitle, data, percentileupper, percentilelower): \n",
      "        # e.g. 'Total Cost', 'Total Cost Category', dataframe, 0.45, 0.55\n",
      "    replace_newlines = lambda s: s.replace('\\n', ' ') # function to remove column newlines objtitle \n",
      "    objcat = []\n",
      "    thresholdupper = np.percentile(data[objtitle], percentileupper*100)\n",
      "    thresholdlower = np.percentile(data[objtitle], percentilelower*100)\n",
      "    for i in range(0, len(data[objtitle])): \n",
      "        if (data[objtitle][i] >= thresholdupper and data[objtitle][i] <= thresholdlower):\n",
      "            objcat.append('%s%s to %s%s %s' % (int(percentileupper*100), '%', \n",
      "                                               int(percentilelower*100), '%', replace_newlines(objtitle)))\n",
      "        else: objcat.append('Other options')\n",
      "    objcat = pd.DataFrame({objcattitle: objcat})\n",
      "    return objcat\n",
      "\n",
      "# Function to create category column to 'brush' for all 3 objectives of interest less than or equal to threshold amount.\n",
      "def brushalllessthan(obj1title, obj2title, obj3title, objcattitle, data, percentile): \n",
      "    replace_newlines = lambda s: s.replace('\\n', ' ') # function to remove column newlines objtitle     \n",
      "    objcat = []\n",
      "    thresholdobj1 = np.percentile(data[obj1title], percentile*100)\n",
      "    thresholdobj2 = np.percentile(data[obj2title], percentile*100)\n",
      "    thresholdobj3 = np.percentile(data[obj3title], percentile*100)\n",
      "    for i in range(0, len(data[obj1title])): \n",
      "        if (data[obj1title][i] <= thresholdobj1):\n",
      "            objcat.append('Top %s%s %s' % (int(percentile*100), '%', replace_newlines(obj1title)))\n",
      "        elif (data[obj2title][i] <= thresholdobj2): \n",
      "            objcat.append('Top %s%s %s' % (int(percentile*100), '%', replace_newlines(obj2title)))\n",
      "        elif (data[obj3title][i] <= thresholdobj3): \n",
      "            objcat.append('Top %s%s %s' % (int(percentile*100), '%', replace_newlines(obj3title)))\n",
      "        else: \n",
      "            objcat.append('Other options')\n",
      "    objcat = pd.DataFrame({objcattitle: objcat})\n",
      "    return objcat"
     ],
     "language": "python",
     "metadata": {},
     "outputs": [],
     "prompt_number": 34
    },
    {
     "cell_type": "heading",
     "level": 1,
     "metadata": {},
     "source": [
      "3 Execution of functions to create parallel plots"
     ]
    },
    {
     "cell_type": "raw",
     "metadata": {},
     "source": [
      "No need to change if using more than 3 objectives, otherwise add or subtract to suit"
     ]
    },
    {
     "cell_type": "heading",
     "level": 2,
     "metadata": {},
     "source": [
      "3.1 Plot parallel coordinates, coloured according to cluster"
     ]
    },
    {
     "cell_type": "code",
     "collapsed": false,
     "input": [
      "parallelcoords(normobjdf, 'parallelobjscluster', clusternos, 'Cluster', 'clustcolormap', 'Normalised value')"
     ],
     "language": "python",
     "metadata": {},
     "outputs": [],
     "prompt_number": 35
    },
    {
     "cell_type": "code",
     "collapsed": false,
     "input": [
      "parallelcoords(dvdf, 'paralleldvscluster', clusternos, 'Cluster', 'clustcolormap', 'Value')"
     ],
     "language": "python",
     "metadata": {},
     "outputs": [],
     "prompt_number": 36
    },
    {
     "cell_type": "heading",
     "level": 2,
     "metadata": {},
     "source": [
      "3.2 Plot parallel coordinates, coloured ('brushed') according to top 5% of each objective"
     ]
    },
    {
     "cell_type": "raw",
     "metadata": {},
     "source": [
      "Objective 1"
     ]
    },
    {
     "cell_type": "code",
     "collapsed": false,
     "input": [
      "obj1cat = '%s Category' % (obj1name)\n",
      "obj1topbrush = brushlessthan(obj1name, obj1cat, normobjdf, topbrush)\n",
      "parallelcoords(normobjdf, 'parallelobjsbrush %s' % (obj1name), obj1topbrush, obj1cat, 'twocolormap', 'Normalised value')\n",
      "parallelcoords(dvdf, 'paralleldvsbrush %s' % (obj1name), obj1topbrush, obj1cat, 'twocolormap', 'Value')"
     ],
     "language": "python",
     "metadata": {},
     "outputs": [],
     "prompt_number": 37
    },
    {
     "cell_type": "raw",
     "metadata": {},
     "source": [
      "All objectives"
     ]
    },
    {
     "cell_type": "code",
     "collapsed": false,
     "input": [
      "allobjcat = 'All objectives category'\n",
      "allobjtopbrush = brushalllessthan(obj1name, obj2name, obj3name, allobjcat, normobjdf, topbrush)\n",
      "parallelcoords(normobjdf, 'parallelobjsbrush %s %s %s' % (obj1name, obj2name, obj3name), allobjtopbrush, allobjcat, 'narrowcolormap', 'Normalised value')\n",
      "parallelcoords(dvdf, 'paralleldvsbrush %s %s %s' % (obj1name, obj2name, obj3name), allobjtopbrush, allobjcat, 'narrowcolormap', 'Value')"
     ],
     "language": "python",
     "metadata": {},
     "outputs": [],
     "prompt_number": 38
    },
    {
     "cell_type": "heading",
     "level": 2,
     "metadata": {},
     "source": [
      "3.3 Plot parallel coordinates, coloured ('brushed') according to middle 10% of each objective"
     ]
    },
    {
     "cell_type": "raw",
     "metadata": {},
     "source": [
      "Objective 1"
     ]
    },
    {
     "cell_type": "code",
     "collapsed": false,
     "input": [
      "obj1midbrush = brush(obj1name, obj1cat, normobjdf, upperbrush, lowerbrush)\n",
      "parallelcoords(normobjdf, 'parallelobjsmidbrush %s' % (obj1name), obj1midbrush, obj1cat, 'twocolormap', 'Normalised value')\n",
      "parallelcoords(dvdf, 'paralleldvsmidbrush %s' % (obj1name), obj1midbrush, obj1cat, 'twocolormap', 'Value')"
     ],
     "language": "python",
     "metadata": {},
     "outputs": [],
     "prompt_number": 39
    },
    {
     "cell_type": "heading",
     "level": 2,
     "metadata": {},
     "source": [
      "3.4 Plot parallel coordinates, coloured ('brushed') for shortlisted scenarios"
     ]
    },
    {
     "cell_type": "code",
     "collapsed": false,
     "input": [
      "parallelcoords(normobjdf, 'parallelshortlistobjs', shortlist, 'Shortlist', 'shortcolormap', 'Normalised value')\n",
      "parallelcoords(dvdf, 'parallelshortlistdvs', shortlist, 'Shortlist', 'shortcolormap', 'Value')"
     ],
     "language": "python",
     "metadata": {},
     "outputs": [],
     "prompt_number": 42
    },
    {
     "cell_type": "code",
     "collapsed": false,
     "input": [],
     "language": "python",
     "metadata": {},
     "outputs": [],
     "prompt_number": 40
    }
   ],
   "metadata": {}
  }
 ]
}