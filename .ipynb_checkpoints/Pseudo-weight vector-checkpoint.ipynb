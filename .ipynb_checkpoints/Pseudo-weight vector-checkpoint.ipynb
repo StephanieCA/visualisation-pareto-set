{
 "metadata": {
  "name": ""
 },
 "nbformat": 3,
 "nbformat_minor": 0,
 "worksheets": [
  {
   "cells": [
    {
     "cell_type": "code",
     "collapsed": false,
     "input": [
      "import pandas as pd\n",
      "from __future__ import division\n",
      "import matplotlib.pyplot as plt\n",
      "from mpl_toolkits.mplot3d import Axes3D\n",
      "import matplotlib as mpl"
     ],
     "language": "python",
     "metadata": {},
     "outputs": [],
     "prompt_number": 1
    },
    {
     "cell_type": "heading",
     "level": 1,
     "metadata": {},
     "source": [
      "1. User input"
     ]
    },
    {
     "cell_type": "heading",
     "level": 2,
     "metadata": {},
     "source": [
      "1.1 Enter objective function results"
     ]
    },
    {
     "cell_type": "code",
     "collapsed": false,
     "input": [
      "obj1 = pd.read_pickle(\"Data/obj1\")\n",
      "obj2 = pd.read_pickle(\"Data/obj2\")\n",
      "obj3 = pd.read_pickle(\"Data/obj3\")\n",
      "\n",
      "obj1name = obj1.name\n",
      "obj2name = obj2.name\n",
      "obj3name = obj3.name"
     ],
     "language": "python",
     "metadata": {},
     "outputs": [],
     "prompt_number": 2
    },
    {
     "cell_type": "heading",
     "level": 2,
     "metadata": {},
     "source": [
      "1.2 Create dataframe with maximised objectives minimised, for calculating pseudo-weight vectors"
     ]
    },
    {
     "cell_type": "code",
     "collapsed": false,
     "input": [
      "pwobjdf = pd.DataFrame.from_items([(obj1name, -obj1), (obj2name, obj2), (obj3name, obj3)])"
     ],
     "language": "python",
     "metadata": {},
     "outputs": [],
     "prompt_number": 3
    },
    {
     "cell_type": "heading",
     "level": 2,
     "metadata": {},
     "source": [
      "1.3 Enter objective chart names"
     ]
    },
    {
     "cell_type": "code",
     "collapsed": false,
     "input": [
      "obj1chartname = 'Minimum Storage (ML)     %s' % u'\\u2192'\n",
      "obj2chartname = '%s    Total Cost ($million)' % u'\\u2190'\n",
      "obj3chartname = '%s    Total Spill (ML)' % u'\\u2190'"
     ],
     "language": "python",
     "metadata": {},
     "outputs": [],
     "prompt_number": 4
    },
    {
     "cell_type": "heading",
     "level": 2,
     "metadata": {},
     "source": [
      "1.4 Enter cluster information"
     ]
    },
    {
     "cell_type": "raw",
     "metadata": {},
     "source": [
      "Medoids"
     ]
    },
    {
     "cell_type": "code",
     "collapsed": false,
     "input": [
      "medobj1 = pd.read_pickle(\"Data/medobj1\")\n",
      "medobj2 = pd.read_pickle(\"Data/medobj2\")\n",
      "medobj3 = pd.read_pickle(\"Data/medobj3\")"
     ],
     "language": "python",
     "metadata": {},
     "outputs": [],
     "prompt_number": 5
    },
    {
     "cell_type": "raw",
     "metadata": {},
     "source": [
      "Enter index of medoids"
     ]
    },
    {
     "cell_type": "code",
     "collapsed": false,
     "input": [
      "medindex = pd.read_pickle(\"Data/medindex\")"
     ],
     "language": "python",
     "metadata": {},
     "outputs": [],
     "prompt_number": 6
    },
    {
     "cell_type": "raw",
     "metadata": {},
     "source": [
      "Create category to identify medoids for plotting"
     ]
    },
    {
     "cell_type": "code",
     "collapsed": false,
     "input": [
      "medcat = {}\n",
      "for i in range(len(obj1)):\n",
      "    if any(medindex == i):\n",
      "        medcat[i] = 1\n",
      "    else:\n",
      "        medcat[i] = 0"
     ],
     "language": "python",
     "metadata": {},
     "outputs": [],
     "prompt_number": 7
    },
    {
     "cell_type": "raw",
     "metadata": {},
     "source": [
      "Enter cluster colour pool"
     ]
    },
    {
     "cell_type": "code",
     "collapsed": false,
     "input": [
      "clustercolours = pd.read_pickle(\"Data/clustercolours\")"
     ],
     "language": "python",
     "metadata": {},
     "outputs": [],
     "prompt_number": 8
    },
    {
     "cell_type": "raw",
     "metadata": {},
     "source": [
      "Enter list of cluster colours for entire Pareto set"
     ]
    },
    {
     "cell_type": "code",
     "collapsed": false,
     "input": [
      "clustcollist = pd.read_pickle(\"Data/clustcollist\")"
     ],
     "language": "python",
     "metadata": {},
     "outputs": [],
     "prompt_number": 9
    },
    {
     "cell_type": "heading",
     "level": 2,
     "metadata": {},
     "source": [
      "1.5 Create dataframe of medoids for calculating pseudo-weights, with maximised objectives negated"
     ]
    },
    {
     "cell_type": "code",
     "collapsed": false,
     "input": [
      "pwmedobjdf = pd.DataFrame.from_items([(obj1name, -medobj1), (obj2name, medobj2), (obj3name, medobj3)])"
     ],
     "language": "python",
     "metadata": {},
     "outputs": [],
     "prompt_number": 10
    },
    {
     "cell_type": "heading",
     "level": 1,
     "metadata": {},
     "source": [
      "2. Pseudo-weight vector function \n",
      "- note it requires minimised objectives (negate maximised objectives)"
     ]
    },
    {
     "cell_type": "raw",
     "metadata": {},
     "source": [
      "Function to calculate pseudo-weight vectors and output to csv"
     ]
    },
    {
     "cell_type": "code",
     "collapsed": false,
     "input": [
      "# Function to calculate pseudo-weight vectors for entire Pareto set\n",
      "# Required input: dataframe of objective function values, columnwise\n",
      "def pseudoweight(objs,filename):\n",
      "    results = pd.DataFrame(index = objs.index, columns=objs.columns)\n",
      "    maximums = {obj: objs[obj].max() for obj in objs}\n",
      "    minimums = {obj: objs[obj].min() for obj in objs}\n",
      "    for i in range(0, len(objs)):\n",
      "        for j in objs.columns:\n",
      "            numerator = (maximums[j]-objs[j][i])/(maximums[j]-minimums[j])\n",
      "            results[j][i] = numerator\n",
      "        results.ix[i] = results.ix[i]/sum(results.ix[i])\n",
      "    results.to_csv(\"%s.csv\" % filename)\n",
      "    return results\n",
      "    \n",
      "# Function to calculate pseudo-weight vectors for medoids, but in context of entire Pareto set\n",
      "# Required input: dataframe of objective function values, columnwise; dataframe of objective functions for medoids\n",
      "def pseudoweightmedoids(objs,medobjs,filename):\n",
      "    results = pd.DataFrame(index = medobjs.index, columns = medobjs.columns)\n",
      "    maximums = {obj: objs[obj].max() for obj in objs}\n",
      "    minimums = {obj: objs[obj].min() for obj in objs}\n",
      "    for i in range(0, len(medobjs)):\n",
      "        for j in medobjs.columns:\n",
      "            numerator = (maximums[j]-medobjs[j][i])/(maximums[j]-minimums[j])\n",
      "            results[j][i] = numerator\n",
      "        results.ix[i] = results.ix[i]/sum(results.ix[i])\n",
      "    results.to_csv(\"%s.csv\" % filename)\n",
      "    return results"
     ],
     "language": "python",
     "metadata": {},
     "outputs": [],
     "prompt_number": 11
    },
    {
     "cell_type": "heading",
     "level": 1,
     "metadata": {},
     "source": [
      "3. Execution"
     ]
    },
    {
     "cell_type": "heading",
     "level": 2,
     "metadata": {},
     "source": [
      "3.1 Implement pseudo-weight function - note it requires minimised objectives (negate maximised objectives)"
     ]
    },
    {
     "cell_type": "code",
     "collapsed": false,
     "input": [
      "# all solutions\n",
      "pweights = pseudoweight(pwobjdf, 'Pseudo-weight vectors/pseudoweights all')\n",
      "# medoids only\n",
      "medoidpweights = pseudoweightmedoids(pwobjdf, pwmedobjdf, 'Pseudo-weight vectors/pseudoweights medoids')"
     ],
     "language": "python",
     "metadata": {},
     "outputs": [],
     "prompt_number": 12
    },
    {
     "cell_type": "heading",
     "level": 2,
     "metadata": {},
     "source": [
      "3.2 Plot Pareto front with legend of weights"
     ]
    },
    {
     "cell_type": "code",
     "collapsed": false,
     "input": [
      "# Create 3d figure\n",
      "fig = plt.figure(figsize = [10,10])\n",
      "ax = fig.add_subplot(1,1,1)\n",
      "ax = Axes3D(fig)\n",
      "\n",
      "# create markers for medoids ('o') or non-medoids ('.')\n",
      "markers = {0:'.', 1:'o'}\n",
      "\n",
      "# create marker size for medoids (60) or non-medoids (150)\n",
      "marksize = {0: 60, 1: 150}\n",
      "\n",
      "# create labels for legend\n",
      "labels = []\n",
      "for i in medoidpweights.index:\n",
      "    labs = 'Medoid %d: ('% (i+1)+', '.join(['{:.2f}'.format(x) for x in abs(medoidpweights.ix[i])]) + ')'\n",
      "    labels.append(labs)\n",
      "\n",
      "# create points for legend\n",
      "points = []\n",
      "for i in medoidpweights.index:\n",
      "    point = mpl.lines.Line2D([0],[0], marker = 'o', markersize = 8, color = clustercolours[i], linestyle = 'none')\n",
      "    points.append(point)\n",
      "\n",
      "# plot each point\n",
      "for i in obj1.index:\n",
      "    ax.scatter(obj1[i], obj2[i], obj3[i], c = clustcollist[i], \n",
      "               marker = markers[medcat[i]], s = marksize[medcat[i]])\n",
      "\n",
      "#label axes\n",
      "ax.set_xlabel(obj1chartname)\n",
      "ax.set_ylabel(obj2chartname)\n",
      "ax.set_zlabel(obj3chartname)\n",
      "\n",
      "# create legend\n",
      "ax.legend(points, labels, numpoints = 1, loc = 'upper left', fontsize = 'small', \n",
      "          title = \"       Pseudo-Weights    \\n(Min Storage, Cost, Spill)\")\n",
      "\n",
      "plt.savefig('Pseudo-weight vectors/pseudo weights scatter pareto front.png', dpi=150, bbox_inches='tight')\n",
      "plt.close(fig)"
     ],
     "language": "python",
     "metadata": {},
     "outputs": [],
     "prompt_number": 13
    },
    {
     "cell_type": "heading",
     "level": 1,
     "metadata": {},
     "source": [
      "4. User input: identify desired medoid"
     ]
    },
    {
     "cell_type": "raw",
     "metadata": {},
     "source": [
      "Enter desired medoid based on analysis of pseudo-weight vector plot"
     ]
    },
    {
     "cell_type": "code",
     "collapsed": false,
     "input": [
      "medindex = pd.read_pickle(\"Data/medindex\")"
     ],
     "language": "python",
     "metadata": {},
     "outputs": [],
     "prompt_number": 14
    },
    {
     "cell_type": "code",
     "collapsed": false,
     "input": [
      "# Enter desired medoid here\n",
      "desmedoid = 6\n",
      "\n",
      "# Find index (1 is subtracted from medoid number, since Python counts from 0)\n",
      "desindex = medindex[desmedoid-1]\n",
      "\n",
      "# Determine which is the desired medoid (1 is added to number of 'Option' as Python counts from 0)\n",
      "print 'Option %d is Medoid %d with %s %d, %s %d, and %s %d' % (desindex+1, desmedoid, obj1name, obj1[desindex], \n",
      "                                                               obj2name, obj2[desindex], obj3name, obj3[desindex])"
     ],
     "language": "python",
     "metadata": {},
     "outputs": [
      {
       "output_type": "stream",
       "stream": "stdout",
       "text": [
        "Option 348 is Medoid 6 with Minimum System Storage (GL) 404, Total Cost ($ million) 5421, and Total Spill Volume (GL) 426\n"
       ]
      }
     ],
     "prompt_number": 15
    },
    {
     "cell_type": "code",
     "collapsed": false,
     "input": [],
     "language": "python",
     "metadata": {},
     "outputs": [],
     "prompt_number": 15
    }
   ],
   "metadata": {}
  }
 ]
}