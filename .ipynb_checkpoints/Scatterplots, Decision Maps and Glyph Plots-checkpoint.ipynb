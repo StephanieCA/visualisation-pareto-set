{
 "metadata": {
  "name": ""
 },
 "nbformat": 3,
 "nbformat_minor": 0,
 "worksheets": [
  {
   "cells": [
    {
     "cell_type": "code",
     "collapsed": false,
     "input": [
      "# Loading\n",
      "import matplotlib.pyplot as plt\n",
      "import matplotlib as mpl\n",
      "import pandas as pd\n",
      "import numpy as np\n",
      "from mpl_toolkits.mplot3d import Axes3D\n",
      "import scipy.stats as stats"
     ],
     "language": "python",
     "metadata": {},
     "outputs": [],
     "prompt_number": 2
    },
    {
     "cell_type": "code",
     "collapsed": false,
     "input": [
      "# Create function to linear regression line and r squared\n",
      "def linreg(x, y):\n",
      "    slope, intercept, r_value, p_value, std_err = stats.linregress(x, y)\n",
      "    return np.poly1d([slope, intercept]), r_value**2"
     ],
     "language": "python",
     "metadata": {},
     "outputs": [],
     "prompt_number": 3
    },
    {
     "cell_type": "heading",
     "level": 1,
     "metadata": {},
     "source": [
      "1. User Input"
     ]
    },
    {
     "cell_type": "heading",
     "level": 2,
     "metadata": {},
     "source": [
      "1.1 Import Pareto set"
     ]
    },
    {
     "cell_type": "raw",
     "metadata": {},
     "source": [
      "Import Pareto optimal results. \n",
      "Enter datframe containing results."
     ]
    },
    {
     "cell_type": "code",
     "collapsed": false,
     "input": [
      "opdata = pd.read_pickle(\"Data/opdata\")"
     ],
     "language": "python",
     "metadata": {},
     "outputs": [],
     "prompt_number": 4
    },
    {
     "cell_type": "raw",
     "metadata": {},
     "source": [
      "Import simulation (rules-based operation/base case) results. \n",
      "Enter dataframe containing results."
     ]
    },
    {
     "cell_type": "code",
     "collapsed": false,
     "input": [
      "simdata = pd.read_pickle(\"Data/simdata\")"
     ],
     "language": "python",
     "metadata": {},
     "outputs": [],
     "prompt_number": 5
    },
    {
     "cell_type": "heading",
     "level": 2,
     "metadata": {},
     "source": [
      "1.2 Import objective functions"
     ]
    },
    {
     "cell_type": "raw",
     "metadata": {},
     "source": [
      "Enter titles of columns and names of objective functions for optimised and simulated results\n",
      "Remember to put abs value for objectives that were negated for optimisation."
     ]
    },
    {
     "cell_type": "code",
     "collapsed": false,
     "input": [
      "obj1 = pd.read_pickle(\"Data/obj1\")\n",
      "obj2 = pd.read_pickle(\"Data/obj2\")\n",
      "obj3 = pd.read_pickle(\"Data/obj3\")\n",
      "\n",
      "objdf = pd.read_pickle(\"Data/objdf\")"
     ],
     "language": "python",
     "metadata": {},
     "outputs": [],
     "prompt_number": 6
    },
    {
     "cell_type": "code",
     "collapsed": false,
     "input": [
      "simobjdf = pd.read_pickle(\"Data/simobjdf\")"
     ],
     "language": "python",
     "metadata": {},
     "outputs": [],
     "prompt_number": 7
    },
    {
     "cell_type": "code",
     "collapsed": false,
     "input": [
      "simobj1 = simobjdf.ix[:,0]\n",
      "simobj2 = simobjdf.ix[:,1]\n",
      "simobj3 = simobjdf.ix[:,2]"
     ],
     "language": "python",
     "metadata": {},
     "outputs": [],
     "prompt_number": 8
    },
    {
     "cell_type": "raw",
     "metadata": {},
     "source": [
      "Import normalised objective functions, where 1 is preferred, 0 is least preferred"
     ]
    },
    {
     "cell_type": "code",
     "collapsed": false,
     "input": [
      "onenormobj1 = pd.read_pickle(\"Data/onenormobj1\")\n",
      "onenormobj2 = pd.read_pickle(\"Data/onenormobj2\")\n",
      "onenormobj3 = pd.read_pickle(\"Data/onenormobj3\")"
     ],
     "language": "python",
     "metadata": {},
     "outputs": [],
     "prompt_number": 9
    },
    {
     "cell_type": "heading",
     "level": 2,
     "metadata": {},
     "source": [
      "1.3 Extract other variables of interest for plots"
     ]
    },
    {
     "cell_type": "code",
     "collapsed": false,
     "input": [
      "desalfull = opdata['Desalination Full Production Threshold']\n",
      "desalfullname = 'Desalination Full Production Threshold'\n",
      "desal13 = opdata['Desalination 1/3 Production Threshold']\n",
      "desal13name = 'Desalination 1/3 Production Threshold'\n",
      "desal23 = opdata['Desalination 2/3 Production Threshold']\n",
      "desal23name = 'Desalination 2/3 Production Threshold'\n",
      "desalprod = opdata['Desalination Total Production Volume (GL)']\n",
      "desalprodname = 'Desalination Total Production Volume (GL)'\n",
      "\n",
      "brisbnthpineflow = opdata['Brisbane to Nth Pine Flow Threshold']"
     ],
     "language": "python",
     "metadata": {},
     "outputs": [],
     "prompt_number": 10
    },
    {
     "cell_type": "heading",
     "level": 2,
     "metadata": {},
     "source": [
      "1.4 Enter chart axis names"
     ]
    },
    {
     "cell_type": "raw",
     "metadata": {},
     "source": [
      "Objective names for charts\n",
      "(including arrows for direction of preference, right is maximised, left is minimised)"
     ]
    },
    {
     "cell_type": "code",
     "collapsed": false,
     "input": [
      "obj1chartname = 'Minimum Storage (GL)     %s' % u'\\u2192'\n",
      "obj2chartname = '%s    Total Cost ($ million)' % u'\\u2190'\n",
      "obj3chartname = '%s    Total Spill (GL)' % u'\\u2190'"
     ],
     "language": "python",
     "metadata": {},
     "outputs": [],
     "prompt_number": 11
    },
    {
     "cell_type": "heading",
     "level": 2,
     "metadata": {},
     "source": [
      "1.6 Enter tick points for chart (if desired)"
     ]
    },
    {
     "cell_type": "code",
     "collapsed": false,
     "input": [
      "obj1ticks = [150,250,350,450]\n",
      "obj2ticks = [5200,5300,5400,5500]\n",
      "obj3ticks = [350,400,450,500,550,600]\n",
      "\n",
      "desalprodticks = [0,100,200,300,400,500]\n",
      "desalfullticks = [0,0.2,0.4,0.6,0.8]\n",
      "desal13ticks = [0,0.2,0.4,0.6,0.8,1.0]\n",
      "desal23ticks = [0,0.2,0.4,0.6,0.8,1.0]"
     ],
     "language": "python",
     "metadata": {},
     "outputs": [],
     "prompt_number": 12
    },
    {
     "cell_type": "heading",
     "level": 1,
     "metadata": {},
     "source": [
      "2. Create Scatterplots of objective performance"
     ]
    },
    {
     "cell_type": "heading",
     "level": 2,
     "metadata": {},
     "source": [
      "2.1 3D scatterplot of objective function performance of Pareto set"
     ]
    },
    {
     "cell_type": "code",
     "collapsed": false,
     "input": [
      "fig = plt.figure(figsize = [10,10])\n",
      "ax = fig.add_subplot(1,1,1)\n",
      "ax = Axes3D(fig)\n",
      "ax.scatter(obj1, obj2, obj3, c = 'blue')\n",
      "ax.set_xlabel(obj1chartname)\n",
      "ax.set_ylabel(obj2chartname)\n",
      "ax.set_zlabel(obj3chartname)\n",
      "plt.savefig('Scatterplots/scatterplot pareto front.png', bbox_inches='tight')\n",
      "plt.close(fig)"
     ],
     "language": "python",
     "metadata": {},
     "outputs": [],
     "prompt_number": 13
    },
    {
     "cell_type": "heading",
     "level": 2,
     "metadata": {},
     "source": [
      "2.2 Scatterplot matrix of objective function performance of Pareto set"
     ]
    },
    {
     "cell_type": "code",
     "collapsed": false,
     "input": [
      "fig = plt.figure()\n",
      "pd.scatter_matrix(objdf, alpha = 1, figsize = [10,10])\n",
      "plt.savefig('Scatterplots/scatterplot pareto front matrix.png', bbox_inches='tight')\n",
      "plt.close(fig)"
     ],
     "language": "python",
     "metadata": {},
     "outputs": [],
     "prompt_number": 14
    },
    {
     "cell_type": "heading",
     "level": 1,
     "metadata": {},
     "source": [
      "3. Create decision map matrix of objective performance"
     ]
    },
    {
     "cell_type": "heading",
     "level": 2,
     "metadata": {},
     "source": [
      "3.1 Decision maps of objective function performance of Pareto set"
     ]
    },
    {
     "cell_type": "code",
     "collapsed": false,
     "input": [
      "fig = plt.figure(figsize = [15,15])\n",
      "ax1 = fig.add_subplot(2,2,1)\n",
      "ax1.scatter(obj1, obj2, c = onenormobj3, marker = '.', s = 250, cmap = 'gray')\n",
      "ax1.set_xlabel('%s    %s' % ('(a)', obj1chartname))\n",
      "ax1.set_xticks(obj1ticks)\n",
      "ax1.set_ylabel(obj2chartname)\n",
      "\n",
      "ax2 = fig.add_subplot(2,2,2)\n",
      "ax2.scatter(obj1, obj3, c = onenormobj2, marker = '.', s = 250, cmap = 'gray')\n",
      "ax2.set_xlabel('%s    %s' % ('(b)', obj1chartname))\n",
      "ax2.set_xticks(obj1ticks)\n",
      "ax2.set_ylabel(obj3chartname)\n",
      "\n",
      "ax3 = fig.add_subplot(2,2,3)\n",
      "ax3.scatter(obj2, obj3, c = onenormobj1, marker = '.', s = 250, cmap = 'gray')\n",
      "ax3.set_xlabel('%s    %s' % ('(c)', obj2chartname))\n",
      "ax3.set_xticks(obj2ticks)\n",
      "ax3.set_ylabel(obj3chartname)\n",
      "\n",
      "plt.savefig('Decision Maps/decision maps pareto front.png', dpi = 150, bbox_inches='tight')\n",
      "plt.close(fig)"
     ],
     "language": "python",
     "metadata": {},
     "outputs": [],
     "prompt_number": 15
    },
    {
     "cell_type": "heading",
     "level": 2,
     "metadata": {},
     "source": [
      "3.2 Decision map of objective function performance of obj1 vs obj2, with obj3 as shading"
     ]
    },
    {
     "cell_type": "code",
     "collapsed": false,
     "input": [
      "fig = plt.figure(figsize = [13,10])\n",
      "ax = fig.add_subplot(1,1,1)\n",
      "ax.scatter(obj1, obj2, c = onenormobj3, marker = '.', s = 250, cmap = 'gray')\n",
      "ax.set_xlabel(obj1chartname)\n",
      "ax.set_xticks(obj1ticks)\n",
      "ax.set_ylabel(obj2chartname)\n",
      "\n",
      "plt.savefig('Decision Maps/decision map pareto front obj1 obj2.png', dpi = 150, bbox_inches='tight')\n",
      "plt.close(fig)"
     ],
     "language": "python",
     "metadata": {},
     "outputs": [],
     "prompt_number": 16
    },
    {
     "cell_type": "heading",
     "level": 1,
     "metadata": {},
     "source": [
      "4. Glyph plots"
     ]
    },
    {
     "cell_type": "heading",
     "level": 2,
     "metadata": {},
     "source": [
      "4.1 Glyph plot showing Brisbane to Nth Pine Flow Threshold in addition to objective functions"
     ]
    },
    {
     "cell_type": "code",
     "collapsed": false,
     "input": [
      "fig = plt.figure(figsize = [13,10])\n",
      "ax = fig.add_subplot(1,1,1)\n",
      "ax.scatter(obj1, obj2, c = onenormobj3, marker = '.', s = brisbnthpineflow*1000, cmap = 'gray')\n",
      "ax.set_xlabel(obj1chartname)\n",
      "ax.set_xticks(obj1ticks)\n",
      "ax.set_ylabel(obj2chartname)\n",
      "\n",
      "plt.savefig('Glyph Plot/glyph plot pareto front brisbnthpineflow.png', dpi = 150, bbox_inches='tight')\n",
      "plt.close(fig)"
     ],
     "language": "python",
     "metadata": {},
     "outputs": [],
     "prompt_number": 17
    },
    {
     "cell_type": "heading",
     "level": 1,
     "metadata": {},
     "source": [
      "5. Scatterplots of desalination decision variable and production volume vs objective functions"
     ]
    },
    {
     "cell_type": "raw",
     "metadata": {},
     "source": [
      "Scatterplots of desalination full decision variable vs objectives (with linear regression and R squared)"
     ]
    },
    {
     "cell_type": "code",
     "collapsed": false,
     "input": [
      "fig, axes = plt.subplots(1, 3, sharey = True, figsize = [15,5])\n",
      "\n",
      "axes[0].scatter(obj1, desalfull, c = 'black')\n",
      "axes[0].set_xlabel('%s    %s' % ('(a)', obj1chartname))\n",
      "axes[0].set_xticks(obj1ticks)\n",
      "axes[0].set_xticklabels(obj1ticks, rotation = 30, horizontalalignment = 'right')\n",
      "axes[0].set_ylabel(desalfullname)\n",
      "axes[0].set_yticks(desalfullticks)\n",
      "obj1_df_lr, obj1_df_r2 = linreg(obj1, desalfull)\n",
      "axes[0].plot(obj1,obj1_df_lr(obj1))\n",
      "r2obj1df = 'R2 = %.2f' % (obj1_df_r2)\n",
      "axes[0].text(150000,0.7, r2obj1df)\n",
      "\n",
      "axes[1].scatter(obj2, desalfull, c = 'black')\n",
      "axes[1].set_xlabel('%s    %s' % ('(b)', obj2chartname))\n",
      "axes[1].set_xticks(obj2ticks)\n",
      "axes[1].set_xticklabels(obj2ticks, rotation = 30, horizontalalignment = 'right')\n",
      "obj2_df_lr, obj2_df_r2 = linreg(obj2, desalfull)\n",
      "axes[1].plot(obj2,obj2_df_lr(obj2))\n",
      "r2obj2df = 'R2 = %.2f' % (obj2_df_r2)\n",
      "axes[1].text(5200,0.7, r2obj2df)\n",
      "\n",
      "axes[2].scatter(obj3, desalfull, c = 'black')\n",
      "axes[2].set_xlabel('%s    %s' % ('(c)', obj3chartname))\n",
      "axes[2].set_xticks(obj3ticks)\n",
      "axes[2].set_xticklabels(obj3ticks, rotation = 30, horizontalalignment = 'right')\n",
      "obj3_df_lr, obj3_df_r2 = linreg(obj3, desalfull)\n",
      "axes[2].plot(obj3,obj3_df_lr(obj3))\n",
      "r2obj3df = 'R2 = %.2f' % (obj3_df_r2)\n",
      "axes[2].text(370000,0.7, r2obj3df)\n",
      "\n",
      "plt.subplots_adjust(wspace = 0, hspace = 0, bottom = 0.2, top = 0.9)\n",
      "plt.savefig('Scatterplots/scatterplot desal full obj linreg.png')\n",
      "plt.close(fig)"
     ],
     "language": "python",
     "metadata": {},
     "outputs": [],
     "prompt_number": 19
    },
    {
     "cell_type": "raw",
     "metadata": {},
     "source": [
      "Scatterplots of desalination full decision variable vs objectives (without linear regression or R squared)"
     ]
    },
    {
     "cell_type": "code",
     "collapsed": false,
     "input": [
      "fig, axes = plt.subplots(1, 3, sharey = True, figsize = [15,5])\n",
      "\n",
      "axes[0].scatter(obj1, desalfull, c = 'black')\n",
      "axes[0].set_xlabel('%s    %s' % ('(a)', obj1chartname))\n",
      "axes[0].set_xticks(obj1ticks)\n",
      "axes[0].set_xticklabels(obj1ticks, rotation = 30, horizontalalignment = 'right')\n",
      "axes[0].set_ylabel(desalfullname)\n",
      "axes[0].set_yticks(desalfullticks)\n",
      "\n",
      "axes[1].scatter(obj2, desalfull, c = 'black')\n",
      "axes[1].set_xlabel('%s    %s' % ('(b)', obj2chartname))\n",
      "axes[1].set_xticks(obj2ticks)\n",
      "axes[1].set_xticklabels(obj2ticks, rotation = 30, horizontalalignment = 'right')\n",
      "\n",
      "axes[2].scatter(obj3, desalfull, c = 'black')\n",
      "axes[2].set_xlabel('%s    %s' % ('(c)', obj3chartname))\n",
      "axes[2].set_xticks(obj3ticks)\n",
      "axes[2].set_xticklabels(obj3ticks, rotation = 30, horizontalalignment = 'right')\n",
      "\n",
      "plt.subplots_adjust(wspace = 0, hspace = 0)\n",
      "plt.savefig('Scatterplots/scatterplot desal full obj.png', dpi=150, bbox_inches='tight') \n",
      "plt.close(fig)"
     ],
     "language": "python",
     "metadata": {},
     "outputs": [],
     "prompt_number": 20
    },
    {
     "cell_type": "raw",
     "metadata": {},
     "source": [
      "Scatterplots of desalination production volume vs objectives"
     ]
    },
    {
     "cell_type": "code",
     "collapsed": false,
     "input": [
      "fig, axes = plt.subplots(1, 3, sharey = True, figsize = [15,5])\n",
      "\n",
      "axes[0].scatter(obj1, desalprod, c = 'black')\n",
      "axes[0].set_xlabel('%s    %s' % ('(a)', obj1chartname))\n",
      "axes[0].set_xticks(obj1ticks)\n",
      "axes[0].set_xticklabels(obj1ticks, rotation = 30, horizontalalignment = 'right')\n",
      "axes[0].set_ylabel(desalprodname)\n",
      "axes[0].set_yticks(desalprodticks)\n",
      "obj1_dp_lr, obj1_dp_r2 = linreg(obj1, desalprod)\n",
      "axes[0].plot(obj1,obj1_dp_lr(obj1))\n",
      "r2obj1dp = 'R2 = %.2f' % (obj1_dp_r2)\n",
      "axes[0].text(150000,450000, r2obj1dp)\n",
      "\n",
      "axes[1].scatter(obj2, desalprod, c = 'black')\n",
      "axes[1].set_xlabel('%s    %s' % ('(b)', obj2chartname))\n",
      "axes[1].set_xticks(obj2ticks)\n",
      "axes[1].set_xticklabels(obj2ticks, rotation = 30, horizontalalignment = 'right')\n",
      "obj2_dp_lr, obj2_dp_r2 = linreg(obj2, desalprod)\n",
      "axes[1].plot(obj2,obj2_dp_lr(obj2))\n",
      "r2obj2dp = 'R2 = %.2f' % (obj2_dp_r2)\n",
      "axes[1].text(5200,450000, r2obj2dp)\n",
      "\n",
      "axes[2].scatter(obj3, desalprod, c = 'black')\n",
      "axes[2].set_xlabel('%s    %s' % ('(c)', obj3chartname))\n",
      "axes[2].set_xticks(obj3ticks)\n",
      "axes[2].set_xticklabels(obj3ticks, rotation = 30, horizontalalignment = 'right')\n",
      "obj3_dp_lr, obj3_dp_r2 = linreg(obj3, desalprod)\n",
      "axes[2].plot(obj3,obj3_dp_lr(obj3))\n",
      "r2obj3dp = 'R2 = %.2f' % (obj3_dp_r2)\n",
      "axes[2].text(510000,0, r2obj3dp)\n",
      "\n",
      "plt.subplots_adjust(wspace = 0, hspace = 0, bottom = 0.2, top = 0.9)\n",
      "plt.savefig('Scatterplots/scatterplot matrix desal prod obj.png') \n",
      "plt.close(fig)"
     ],
     "language": "python",
     "metadata": {},
     "outputs": [],
     "prompt_number": 22
    },
    {
     "cell_type": "raw",
     "metadata": {},
     "source": [
      "Scatterplots of desalination production volume vs desalination decision variables"
     ]
    },
    {
     "cell_type": "code",
     "collapsed": false,
     "input": [
      "fig, axes = plt.subplots(1, 3, sharey = True, figsize = [15,5])\n",
      "\n",
      "axes[0].scatter(desal13, desalprod, c = 'black')\n",
      "axes[0].set_xlabel('%s    %s' % ('(a)', desal13name))\n",
      "axes[0].set_xticks(desal13ticks)\n",
      "axes[0].set_xticklabels(desal13ticks, rotation = 30, horizontalalignment = 'right')\n",
      "axes[0].set_ylabel(desalprodname)\n",
      "axes[0].set_yticks(desalprodticks)\n",
      "\n",
      "axes[1].scatter(desal23, desalprod, c = 'black')\n",
      "axes[1].set_xlabel('%s    %s' % ('(b)', desal23name))\n",
      "axes[1].set_xticks(desal23ticks)\n",
      "axes[1].set_xticklabels(desal23ticks, rotation = 30, horizontalalignment = 'right')\n",
      "\n",
      "axes[2].scatter(desalfull, desalprod, c = 'black')\n",
      "axes[2].set_xlabel('%s    %s' % ('(c)', desalfullname))\n",
      "axes[2].set_xticks(desalfullticks)\n",
      "axes[2].set_xticklabels(desalfullticks, rotation = 30, horizontalalignment = 'right')\n",
      "\n",
      "plt.subplots_adjust(wspace = 0, hspace = 0)\n",
      "plt.savefig('Scatterplots/scatterplot matrix desal prod dec var.png', dpi=150, bbox_inches='tight') \n",
      "plt.close(fig)"
     ],
     "language": "python",
     "metadata": {},
     "outputs": [],
     "prompt_number": 23
    },
    {
     "cell_type": "code",
     "collapsed": false,
     "input": [],
     "language": "python",
     "metadata": {},
     "outputs": []
    }
   ],
   "metadata": {}
  }
 ]
}