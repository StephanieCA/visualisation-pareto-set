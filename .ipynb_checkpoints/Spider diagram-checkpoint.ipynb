{
 "metadata": {
  "name": ""
 },
 "nbformat": 3,
 "nbformat_minor": 0,
 "worksheets": [
  {
   "cells": [
    {
     "cell_type": "code",
     "collapsed": false,
     "input": [
      "# Loading\n",
      "import matplotlib.pyplot as plt\n",
      "import matplotlib as mpl\n",
      "import pandas as pd\n",
      "import numpy as np\n",
      "from matplotlib.path import Path\n",
      "from matplotlib.spines import Spine\n",
      "from matplotlib.projections.polar import PolarAxes\n",
      "from matplotlib.projections import register_projection"
     ],
     "language": "python",
     "metadata": {},
     "outputs": [],
     "prompt_number": 1
    },
    {
     "cell_type": "heading",
     "level": 1,
     "metadata": {},
     "source": [
      "1 User input"
     ]
    },
    {
     "cell_type": "heading",
     "level": 2,
     "metadata": {},
     "source": [
      "1.1 Input and format cluster analysis results"
     ]
    },
    {
     "cell_type": "raw",
     "metadata": {},
     "source": [
      "Enter normalised medoid data"
     ]
    },
    {
     "cell_type": "code",
     "collapsed": false,
     "input": [
      "normmedoidobjdf = pd.read_pickle(\"Data/normmedoidobjdf\")"
     ],
     "language": "python",
     "metadata": {},
     "outputs": [],
     "prompt_number": 2
    },
    {
     "cell_type": "raw",
     "metadata": {},
     "source": [
      "Create chart formatted titles"
     ]
    },
    {
     "cell_type": "code",
     "collapsed": false,
     "input": [
      "# have hacked names to appear nicely on radar chart\n",
      "obj1name = 'Minimum Storage'\n",
      "obj2name = 'Total Cost                          '\n",
      "obj3name = '           Total Spill'\n",
      "\n",
      "objnames = [obj1name, obj2name, obj3name]"
     ],
     "language": "python",
     "metadata": {},
     "outputs": [],
     "prompt_number": 3
    },
    {
     "cell_type": "heading",
     "level": 2,
     "metadata": {},
     "source": [
      "1.2 Input and format shortlist of decision options "
     ]
    },
    {
     "cell_type": "raw",
     "metadata": {},
     "source": [
      "Input shortlist normalised objective function performance"
     ]
    },
    {
     "cell_type": "code",
     "collapsed": false,
     "input": [
      "normshortlistobjdf = pd.read_pickle(\"Data/normshortlistobjdf\")"
     ],
     "language": "python",
     "metadata": {},
     "outputs": [],
     "prompt_number": 4
    },
    {
     "cell_type": "heading",
     "level": 2,
     "metadata": {},
     "source": [
      "1.3 Specify cluster colours"
     ]
    },
    {
     "cell_type": "raw",
     "metadata": {},
     "source": [
      "Enter cluster colour pool. This is shared with other plots."
     ]
    },
    {
     "cell_type": "code",
     "collapsed": false,
     "input": [
      "clustcols = pd.read_pickle(\"Data/clustercolours\")"
     ],
     "language": "python",
     "metadata": {},
     "outputs": [],
     "prompt_number": 5
    },
    {
     "cell_type": "heading",
     "level": 2,
     "metadata": {},
     "source": [
      "1.4 Specify number of rows and columns for diagrams"
     ]
    },
    {
     "cell_type": "raw",
     "metadata": {},
     "source": [
      "Function dimensions creates a list showing dimensions (rows and columns) of subplots, for a given number of plots. Columns is given the greater of two dimensions, where relevant."
     ]
    },
    {
     "cell_type": "code",
     "collapsed": false,
     "input": [
      "def dimensions(numplots):\n",
      "    rows = int(numplots**0.5) + (numplots % numplots**0.5 > 0) # rounds up the square root of numplots\n",
      "    cols = int(numplots/rows) + (numplots % rows > 0) # rounds up the numplots divided by num cols\n",
      "    return [rows, cols]"
     ],
     "language": "python",
     "metadata": {},
     "outputs": [],
     "prompt_number": 6
    },
    {
     "cell_type": "code",
     "collapsed": false,
     "input": [
      "medrow = dimensions(len(normmedoidobjdf.index))[0]\n",
      "medcol = dimensions(len(normmedoidobjdf.index))[1]"
     ],
     "language": "python",
     "metadata": {},
     "outputs": [],
     "prompt_number": 7
    },
    {
     "cell_type": "code",
     "collapsed": false,
     "input": [
      "shortcol = dimensions(len(normshortlistobjdf.index))[1]\n",
      "shortrow = dimensions(len(normshortlistobjdf.index))[0]"
     ],
     "language": "python",
     "metadata": {},
     "outputs": [],
     "prompt_number": 8
    },
    {
     "cell_type": "heading",
     "level": 1,
     "metadata": {},
     "source": [
      "2 Define functions"
     ]
    },
    {
     "cell_type": "heading",
     "level": 2,
     "metadata": {},
     "source": [
      "2.1 Radar chart projection function"
     ]
    },
    {
     "cell_type": "raw",
     "metadata": {},
     "source": [
      "Source: http://matplotlib.org/examples/api/radar_chart.html"
     ]
    },
    {
     "cell_type": "raw",
     "metadata": {},
     "source": [
      "Note: this function takes a dict such as \n",
      "{'column names': ['Variable 1', 'Variable 2'], 'Option 1': [var1, var2], 'Option 2': [var1, var2]}"
     ]
    },
    {
     "cell_type": "code",
     "collapsed": false,
     "input": [
      "def radar_factory(num_vars, frame='circle'):\n",
      "    \"\"\"Create a radar chart with `num_vars` axes.\n",
      "\n",
      "    This function creates a RadarAxes projection and registers it.\n",
      "\n",
      "    Parameters\n",
      "    ----------\n",
      "    num_vars : int\n",
      "        Number of variables for radar chart.\n",
      "    frame : {'circle' | 'polygon'}\n",
      "        Shape of frame surrounding axes.\n",
      "\n",
      "    \"\"\"\n",
      "    # calculate evenly-spaced axis angles\n",
      "    theta = 2*np.pi * np.linspace(0, 1-1./num_vars, num_vars)\n",
      "    # rotate theta such that the first axis is at the top\n",
      "    theta += np.pi/2\n",
      "\n",
      "    def draw_poly_patch(self):\n",
      "        verts = unit_poly_verts(theta)\n",
      "        return plt.Polygon(verts, closed=True, edgecolor='k')\n",
      "\n",
      "    def draw_circle_patch(self):\n",
      "        # unit circle centered on (0.5, 0.5)\n",
      "        return plt.Circle((0.5, 0.5), 0.5)\n",
      "\n",
      "    patch_dict = {'polygon': draw_poly_patch, 'circle': draw_circle_patch}\n",
      "    if frame not in patch_dict:\n",
      "        raise ValueError('unknown value for `frame`: %s' % frame)\n",
      "\n",
      "    class RadarAxes(PolarAxes):\n",
      "\n",
      "        name = 'radar'\n",
      "        # use 1 line segment to connect specified points\n",
      "        RESOLUTION = 1\n",
      "        # define draw_frame method\n",
      "        draw_patch = patch_dict[frame]\n",
      "\n",
      "        def fill(self, *args, **kwargs):\n",
      "            \"\"\"Override fill so that line is closed by default\"\"\"\n",
      "            closed = kwargs.pop('closed', True)\n",
      "            return super(RadarAxes, self).fill(closed=closed, *args, **kwargs)\n",
      "\n",
      "        def plot(self, *args, **kwargs):\n",
      "            \"\"\"Override plot so that line is closed by default\"\"\"\n",
      "            lines = super(RadarAxes, self).plot(*args, **kwargs)\n",
      "            for line in lines:\n",
      "                self._close_line(line)\n",
      "\n",
      "        def _close_line(self, line):\n",
      "            x, y = line.get_data()\n",
      "            # FIXME: markers at x[0], y[0] get doubled-up\n",
      "            if x[0] != x[-1]:\n",
      "                x = np.concatenate((x, [x[0]]))\n",
      "                y = np.concatenate((y, [y[0]]))\n",
      "                line.set_data(x, y)\n",
      "\n",
      "        def set_varlabels(self, labels):\n",
      "            self.set_thetagrids(theta * 180/np.pi, labels, fontsize = 'large', frac = 1.1)\n",
      "\n",
      "        def _gen_axes_patch(self):\n",
      "            return self.draw_patch()\n",
      "\n",
      "        def _gen_axes_spines(self):\n",
      "            if frame == 'circle':\n",
      "                return PolarAxes._gen_axes_spines(self)\n",
      "            # The following is a hack to get the spines (i.e. the axes frame)\n",
      "            # to draw correctly for a polygon frame.\n",
      "\n",
      "            # spine_type must be 'left', 'right', 'top', 'bottom', or `circle`.\n",
      "            spine_type = 'circle'\n",
      "            verts = unit_poly_verts(theta)\n",
      "            # close off polygon by repeating first vertex\n",
      "            verts.append(verts[0])\n",
      "            path = Path(verts)\n",
      "\n",
      "            spine = Spine(self, spine_type, path)\n",
      "            spine.set_transform(self.transAxes)\n",
      "            return {'polar': spine}\n",
      "\n",
      "    register_projection(RadarAxes)\n",
      "    return theta"
     ],
     "language": "python",
     "metadata": {},
     "outputs": [],
     "prompt_number": 9
    },
    {
     "cell_type": "code",
     "collapsed": false,
     "input": [
      "def unit_poly_verts(theta):\n",
      "    \"\"\"Return vertices of polygon for subplot axes.\n",
      "\n",
      "    This polygon is circumscribed by a unit circle centered at (0.5, 0.5)\n",
      "    \"\"\"\n",
      "    x0, y0, r = [0.5] * 3\n",
      "    verts = [(r*np.cos(t) + x0, r*np.sin(t) + y0) for t in theta]\n",
      "    return verts"
     ],
     "language": "python",
     "metadata": {},
     "outputs": [],
     "prompt_number": 10
    },
    {
     "cell_type": "heading",
     "level": 1,
     "metadata": {},
     "source": [
      "3 Execution"
     ]
    },
    {
     "cell_type": "heading",
     "level": 2,
     "metadata": {},
     "source": [
      "3.1 Create spider diagram of cluster medoids"
     ]
    },
    {
     "cell_type": "code",
     "collapsed": false,
     "input": [
      "N = len(objnames) # number of axes\n",
      "theta = radar_factory(N, frame='circle')\n",
      "\n",
      "spoke_labels = objnames\n",
      "\n",
      "fig = plt.figure(figsize=(20, 20))\n",
      "fig.subplots_adjust(wspace=0.25, hspace=0.2, top=0.85, bottom=0.05)\n",
      "\n",
      "for i in normmedoidobjdf.index:\n",
      "    ax = fig.add_subplot(medrow, medcol, i+1, projection='radar')\n",
      "    plt.rgrids((0.01, 0.2, 0.4, 0.6, 0.8, 1.0), labels = ('Best','','','','','Worst'),\n",
      "               fontsize = 'large')\n",
      "    plt.ylim([0,1.0])\n",
      "    medname = 'Medoid %d' % (normmedoidobjdf.index[i]+1)\n",
      "    ax.set_title(medname, weight='bold', size='large', position=(0.5, 1.1),\n",
      "                 horizontalalignment='center', verticalalignment='center')\n",
      "    ax.plot(theta, normmedoidobjdf.ix[i], color=clustcols[i])\n",
      "    ax.fill(theta, normmedoidobjdf.ix[i], facecolor=clustcols[i], alpha=0.8)\n",
      "    ax.set_varlabels(spoke_labels)\n",
      "\n",
      "# save and close figure\n",
      "plt.savefig('Spider Diagram/spider diagrams.png', dpi = 150, bbox_inches = 'tight')\n",
      "plt.close(fig)"
     ],
     "language": "python",
     "metadata": {},
     "outputs": [],
     "prompt_number": 11
    },
    {
     "cell_type": "heading",
     "level": 2,
     "metadata": {},
     "source": [
      "3.2 Create spider diagram of shortlist"
     ]
    },
    {
     "cell_type": "code",
     "collapsed": false,
     "input": [
      "N = len(objnames) # number of axes\n",
      "theta = radar_factory(N, frame='circle')\n",
      "\n",
      "data = normshortlistobjdf\n",
      "spoke_labels = objnames\n",
      "\n",
      "fig = plt.figure(figsize=(20, 15))\n",
      "fig.subplots_adjust(wspace=0.25, hspace=0.2, top=0.85, bottom=0.05)\n",
      "\n",
      "for i in range(0, len(data)):\n",
      "    ax = fig.add_subplot(shortrow, shortcol, i+1, projection='radar')\n",
      "    plt.rgrids((0.01, 0.2, 0.4, 0.6, 0.8, 1.0), labels = ('Best','','','','','Worst'),\n",
      "               fontsize = 'large')\n",
      "    plt.ylim([0,1.0])\n",
      "    shortname = 'Decision Option %s' % (data.index[i]+1)\n",
      "    ax.set_title(shortname, weight='bold', size='large', position=(0.5, 1.1),\n",
      "                 horizontalalignment='center', verticalalignment='center')\n",
      "    ax.plot(theta, data.ix[data.index[i]])\n",
      "    ax.fill(theta, data.ix[data.index[i]], alpha=0.8)\n",
      "    ax.set_varlabels(spoke_labels)\n",
      "\n",
      "# save and close figure\n",
      "plt.savefig('Spider Diagram/spider diagrams shortlist.png', dpi = 150, bbox_inches = 'tight')\n",
      "plt.close(fig)"
     ],
     "language": "python",
     "metadata": {},
     "outputs": [],
     "prompt_number": 12
    },
    {
     "cell_type": "code",
     "collapsed": false,
     "input": [],
     "language": "python",
     "metadata": {},
     "outputs": [],
     "prompt_number": 12
    }
   ],
   "metadata": {}
  }
 ]
}