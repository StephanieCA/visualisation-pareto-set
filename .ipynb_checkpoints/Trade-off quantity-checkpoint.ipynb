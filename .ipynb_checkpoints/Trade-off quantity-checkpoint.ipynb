{
 "cells": [
  {
   "cell_type": "code",
   "execution_count": 13,
   "metadata": {
    "collapsed": false
   },
   "outputs": [],
   "source": [
    "# Loading\n",
    "import matplotlib.pyplot as plt\n",
    "import matplotlib as mpl\n",
    "import pandas as pd\n",
    "import numpy as np\n",
    "from mpl_toolkits.mplot3d import Axes3D\n",
    "import scipy.stats as stats"
   ]
  },
  {
   "cell_type": "markdown",
   "metadata": {},
   "source": [
    "# 1. Input data"
   ]
  },
  {
   "cell_type": "markdown",
   "metadata": {},
   "source": [
    "## 1.1 Import Pareto optimal results"
   ]
  },
  {
   "cell_type": "code",
   "execution_count": 14,
   "metadata": {
    "collapsed": false
   },
   "outputs": [],
   "source": [
    "# Enter objective functions for optimised results\n",
    "obj1 = pd.read_pickle(\"Data/obj1\")\n",
    "obj1name = obj1.name\n",
    "obj2 = pd.read_pickle(\"Data/obj2\")\n",
    "obj2name = obj2.name\n",
    "obj3 = pd.read_pickle(\"Data/obj3\")\n",
    "obj3name = obj3.name\n",
    "\n",
    "# Create objective function dataframe\n",
    "objdf = pd.read_pickle(\"Data/objdf\")\n",
    "\n",
    "# Objective names for charts (including arrows for direction of preference)\n",
    "obj1chartname = 'Minimum Storage (GL) %s' % r'$\\longrightarrow$'\n",
    "obj2chartname = '%s Total Cost (%s million)' % (r'$\\longleftarrow$', r'$\\$$')\n",
    "obj3chartname = '%s Total Spill (GL)' % r'$\\longleftarrow$'"
   ]
  },
  {
   "cell_type": "markdown",
   "metadata": {},
   "source": [
    "# 2. Function to determine maximum trade off (e.g. tradeof obj1, tradefor obj2)"
   ]
  },
  {
   "cell_type": "code",
   "execution_count": 15,
   "metadata": {
    "collapsed": false
   },
   "outputs": [],
   "source": [
    "def tradeoff(dataframe, tradeofname, tradeforname, ascending=True):\n",
    "# index and ix are different. We wish to preserve the original index values of the unsorted dataframe\n",
    "# Index helps us to cycle through an order of rows (e.g. 0th to 199th)\n",
    "# ix refers to the original rows/decision options of the unsorted dataframe \n",
    "    df = pd.DataFrame.from_items([(tradeofname, dataframe[tradeofname]), (tradeforname, dataframe[tradeforname])])\n",
    "    df = df.sort_values(by=df.columns[0], ascending=ascending)\n",
    "    \n",
    "    tradeoff = pd.DataFrame(columns = ['tradeoff'], index = df.index)\n",
    "    for i in range(1, len(df)): # skip first value as it can't have a gradient\n",
    "        value = (df.ix[df.index[i-1]][0]-df.ix[df.index[i]][0])/(df.ix[df.index[i-1]][1]-df.ix[df.index[i]][1])\n",
    "        tradeoff.ix[df.index[i]] = value\n",
    "        \n",
    "    maxtradeoffix = tradeoff['tradeoff'].idxmax()\n",
    "    \n",
    "#    return \"Decision option with maximum tradeoff of %s for %s is %d\" % (tradeofname, tradeforname, maxtradeoffix)\n",
    "\n",
    "    return dataframe.ix[maxtradeoffix]"
   ]
  },
  {
   "cell_type": "markdown",
   "metadata": {},
   "source": [
    "# 3. Execution"
   ]
  },
  {
   "cell_type": "markdown",
   "metadata": {},
   "source": [
    "## 3.1 Determine maximum tradeoffs"
   ]
  },
  {
   "cell_type": "code",
   "execution_count": 16,
   "metadata": {
    "collapsed": false
   },
   "outputs": [],
   "source": [
    "tdminstorcost = tradeoff(objdf, obj1name, obj2name, ascending = True)"
   ]
  },
  {
   "cell_type": "code",
   "execution_count": 17,
   "metadata": {
    "collapsed": false
   },
   "outputs": [
    {
     "data": {
      "text/plain": [
       "Minimum System Storage (GL)     200.576920\n",
       "Total Cost ($ million)         5338.283151\n",
       "Total Spill Volume (GL)         303.956874\n",
       "Name: 670, dtype: float64"
      ]
     },
     "execution_count": 17,
     "metadata": {},
     "output_type": "execute_result"
    }
   ],
   "source": [
    "tdminstorcost"
   ]
  },
  {
   "cell_type": "code",
   "execution_count": 18,
   "metadata": {
    "collapsed": false
   },
   "outputs": [],
   "source": [
    "tdcostminstor = tradeoff(objdf, obj2name, obj1name, ascending = False)"
   ]
  },
  {
   "cell_type": "code",
   "execution_count": 19,
   "metadata": {
    "collapsed": false
   },
   "outputs": [
    {
     "data": {
      "text/plain": [
       "Minimum System Storage (GL)     430.282696\n",
       "Total Cost ($ million)         5506.499060\n",
       "Total Spill Volume (GL)         494.714354\n",
       "Name: 295, dtype: float64"
      ]
     },
     "execution_count": 19,
     "metadata": {},
     "output_type": "execute_result"
    }
   ],
   "source": [
    "tdcostminstor"
   ]
  },
  {
   "cell_type": "code",
   "execution_count": 20,
   "metadata": {
    "collapsed": false
   },
   "outputs": [],
   "source": [
    "tdminstorspill = tradeoff(objdf, obj1name, obj3name, ascending = True)"
   ]
  },
  {
   "cell_type": "code",
   "execution_count": 21,
   "metadata": {
    "collapsed": false
   },
   "outputs": [],
   "source": [
    "tdspillminstor = tradeoff(objdf, obj3name, obj1name, ascending = False)"
   ]
  },
  {
   "cell_type": "code",
   "execution_count": 22,
   "metadata": {
    "collapsed": false
   },
   "outputs": [],
   "source": [
    "tdcostspill = tradeoff(objdf, obj2name, obj3name, ascending = False)"
   ]
  },
  {
   "cell_type": "code",
   "execution_count": 23,
   "metadata": {
    "collapsed": false
   },
   "outputs": [],
   "source": [
    "tdspillcost = tradeoff(objdf, obj3name, obj2name, ascending = False)"
   ]
  },
  {
   "cell_type": "markdown",
   "metadata": {},
   "source": [
    "## 3.2 Plot maximum tradeoffs"
   ]
  },
  {
   "cell_type": "raw",
   "metadata": {},
   "source": [
    "3D Objective Scatterplot highlighting options with highest trade-off"
   ]
  },
  {
   "cell_type": "code",
   "execution_count": 31,
   "metadata": {
    "collapsed": false
   },
   "outputs": [],
   "source": [
    "#create colorpool for plotting points of maximum tradeoff\n",
    "cpool = [\"red\", \"blue\", \"green\", \"orange\", \"purple\", \"magenta\"]\n",
    "\n",
    "#create color list for plotting points of maximum tradeoff, using indices\n",
    "tdcol = []\n",
    "for i in range(0, len(obj1)):\n",
    "    tdcol.append(\"gray\")\n",
    "tdcol[tdminstorcost.name] = cpool[0]\n",
    "tdcol[tdcostminstor.name] = cpool[1]\n",
    "tdcol[tdminstorspill.name] = cpool[2]\n",
    "tdcol[tdspillminstor.name] = cpool[3]\n",
    "tdcol[tdcostspill.name] = cpool[4]\n",
    "tdcol[tdspillcost.name] = cpool[5]\n",
    "    \n",
    "#create 3D figure\n",
    "fig = plt.figure(figsize = [7,7])\n",
    "ax = Axes3D(fig)\n",
    "\n",
    "#create marker category to identify points of maximum tradeoff as larger circles\n",
    "tdcategory = {}\n",
    "for i in range(0, len(obj1)):\n",
    "    if i == tdcostminstor.name:\n",
    "        tdcategory[i] = 1\n",
    "    elif i == tdminstorcost.name:\n",
    "        tdcategory[i] = 1\n",
    "    elif i == tdminstorspill.name:\n",
    "        tdcategory[i] = 1\n",
    "    elif i == tdspillminstor.name:\n",
    "        tdcategory[i] = 1\n",
    "    elif i == tdcostspill.name:\n",
    "        tdcategory[i] = 1\n",
    "    elif i == tdspillcost.name:\n",
    "        tdcategory[i] = 1\n",
    "    else: tdcategory[i] = 0\n",
    "tdmark = {0:'.', 1:'o'}\n",
    "\n",
    "#create marker size pool to make maximum tradeoff points larger.\n",
    "tdmarksize = {0: 60, 1: 150}\n",
    "\n",
    "\n",
    "#plot points as scatter diagram\n",
    "for i in tdcategory:\n",
    "    ax.scatter(obj1[i], obj2[i], obj3[i], s = tdmarksize[tdcategory[i]], c = tdcol[i], marker = tdmark[tdcategory[i]], alpha = 0.8) \n",
    "    \n",
    "ax.set_xlabel(obj1chartname, labelpad = 10)\n",
    "ax.set_ylabel(obj2chartname, labelpad = 10)\n",
    "ax.set_zlabel(obj3chartname, labelpad = 10)\n",
    "\n",
    "# create legend\n",
    "linepool = []\n",
    "for i in range(0, len(cpool)):\n",
    "    linepool.append(mpl.lines.Line2D([0],[0], marker = 'o', ms = 10, color = cpool[i], linestyle = 'none'))\n",
    "    \n",
    "namepool = ['Max trade-off of min storage for cost', 'Max trade-off of cost for min storage', 'Max trade-off of min storage for spill',\n",
    "            'Max trade-off of spill for min storage', 'Max trade-off of cost for spill', 'Max trade-off of spill for cost']\n",
    "\n",
    "ax.legend((linepool), (namepool), numpoints = 1, loc = 'upper left', fontsize = 'small')\n",
    "\n",
    "#save file\n",
    "plt.savefig('Trade-off quantity/Tradeoff 3d scatterplot.png', dpi=150, bbox_inches = 'tight')\n",
    "plt.savefig('Trade-off quantity/Tradeoff 3d scatterplot.eps', bbox_inches = 'tight')\n",
    "plt.close(fig)"
   ]
  },
  {
   "cell_type": "code",
   "execution_count": null,
   "metadata": {
    "collapsed": false
   },
   "outputs": [],
   "source": []
  }
 ],
 "metadata": {
  "kernelspec": {
   "display_name": "Python 2",
   "language": "python",
   "name": "python2"
  },
  "language_info": {
   "codemirror_mode": {
    "name": "ipython",
    "version": 2
   },
   "file_extension": ".py",
   "mimetype": "text/x-python",
   "name": "python",
   "nbconvert_exporter": "python",
   "pygments_lexer": "ipython2",
   "version": "2.7.6"
  }
 },
 "nbformat": 4,
 "nbformat_minor": 0
}
