{
 "metadata": {
  "name": ""
 },
 "nbformat": 3,
 "nbformat_minor": 0,
 "worksheets": [
  {
   "cells": [
    {
     "cell_type": "markdown",
     "metadata": {},
     "source": [
      "WARNING anything you do with plotly is posted online!\n",
      "=====================================================\n",
      "\n",
      "Website is plot.ly\n",
      "Log in and see what you can do with privacy settings before uploading sensitive data."
     ]
    },
    {
     "cell_type": "code",
     "collapsed": false,
     "input": [
      "import plotly.plotly as pltly\n",
      "from plotly.graph_objs import *\n",
      "pltly.sign_in(username, password) # enter username and password here\n",
      "import pandas as pd"
     ],
     "language": "python",
     "metadata": {},
     "outputs": [],
     "prompt_number": 27
    },
    {
     "cell_type": "heading",
     "level": 1,
     "metadata": {},
     "source": [
      "1. Input"
     ]
    },
    {
     "cell_type": "heading",
     "level": 2,
     "metadata": {},
     "source": [
      "1.1 Import objective function optimisation results"
     ]
    },
    {
     "cell_type": "code",
     "collapsed": false,
     "input": [
      "obj1 = pd.read_pickle(\"Data/obj1\")\n",
      "obj2 = pd.read_pickle(\"Data/obj2\")\n",
      "obj3 = pd.read_pickle(\"Data/obj3\")"
     ],
     "language": "python",
     "metadata": {},
     "outputs": [],
     "prompt_number": 28
    },
    {
     "cell_type": "heading",
     "level": 2,
     "metadata": {},
     "source": [
      "1.2 Format plot"
     ]
    },
    {
     "cell_type": "code",
     "collapsed": false,
     "input": [
      "marker = {'size': 4}\n",
      "data=Data([Scatter3d(x=obj1, y=obj2, z=obj3, mode = 'markers', marker = marker)])\n",
      "layout = Layout(\n",
      "                scene = Scene(\n",
      "                              xaxis = XAxis(title = obj1.name),\n",
      "                              yaxis = YAxis(title = obj2.name),\n",
      "                              zaxis = ZAxis(title = obj3.name)\n",
      "                              )\n",
      "                )"
     ],
     "language": "python",
     "metadata": {},
     "outputs": [],
     "prompt_number": 34
    },
    {
     "cell_type": "heading",
     "level": 1,
     "metadata": {},
     "source": [
      "2. Plot"
     ]
    },
    {
     "cell_type": "code",
     "collapsed": false,
     "input": [
      "fig = Figure(data = data, layout = layout)\n",
      "pltly.iplot(fig, filename = '3D_Pareto_set_objective_functions', fileopt = 'overwrite')"
     ],
     "language": "python",
     "metadata": {},
     "outputs": [
      {
       "html": [
        "<iframe id=\"igraph\" scrolling=\"no\" style=\"border:none;\"seamless=\"seamless\" src=\"https://plot.ly/~StephanieAshbolt/13.embed\" height=\"525\" width=\"100%\"></iframe>"
       ],
       "metadata": {},
       "output_type": "pyout",
       "prompt_number": 35,
       "text": [
        "<plotly.tools.PlotlyDisplay at 0x7f5293013490>"
       ]
      }
     ],
     "prompt_number": 35
    },
    {
     "cell_type": "code",
     "collapsed": false,
     "input": [
      "help(pltly.iplot)"
     ],
     "language": "python",
     "metadata": {},
     "outputs": []
    },
    {
     "cell_type": "code",
     "collapsed": false,
     "input": [],
     "language": "python",
     "metadata": {},
     "outputs": []
    }
   ],
   "metadata": {}
  }
 ]
}