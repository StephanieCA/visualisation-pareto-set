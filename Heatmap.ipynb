{
 "metadata": {
  "name": ""
 },
 "nbformat": 3,
 "nbformat_minor": 0,
 "worksheets": [
  {
   "cells": [
    {
     "cell_type": "code",
     "collapsed": false,
     "input": [
      "import matplotlib.pyplot as plt\n",
      "import matplotlib as mpl\n",
      "import pandas as pd\n",
      "import numpy as np"
     ],
     "language": "python",
     "metadata": {},
     "outputs": [],
     "prompt_number": 1
    },
    {
     "cell_type": "heading",
     "level": 1,
     "metadata": {},
     "source": [
      "1. Input Pareto set"
     ]
    },
    {
     "cell_type": "heading",
     "level": 2,
     "metadata": {},
     "source": [
      "1.1 Input normalised objective functions (0 preferred, 1 least preferred)"
     ]
    },
    {
     "cell_type": "code",
     "collapsed": false,
     "input": [
      "normmedoiddf = pd.read_pickle(\"Data/normmedoiddf\")"
     ],
     "language": "python",
     "metadata": {},
     "outputs": [],
     "prompt_number": 4
    },
    {
     "cell_type": "heading",
     "level": 1,
     "metadata": {},
     "source": [
      "2. Plot heatmap"
     ]
    },
    {
     "cell_type": "code",
     "collapsed": false,
     "input": [
      "fig = plt.figure(figsize = [0.7*(len(normmedoiddf.columns)+5),0.7*len(normmedoiddf.index)])\n",
      "\n",
      "plt.pcolor(normmedoiddf, cmap = plt.cm.Blues)\n",
      "\n",
      "plt.yticks(np.arange(0.5, len(normmedoiddf.index)), normmedoiddf.index+1)\n",
      "\n",
      "plt.xticks(np.arange(0.5, len(normmedoiddf.columns)), normmedoiddf.columns, rotation = 45,\n",
      "           horizontalalignment = 'right')\n",
      "\n",
      "plt.xlim((0, len(normmedoiddf.columns)))\n",
      "\n",
      "plt.ylabel(\"Medoid\")\n",
      "\n",
      "cb = plt.colorbar()\n",
      "cb.set_ticks((0.01,0.1,0.2,0.3,0.4,0.5,0.6,0.7,0.8,0.9,1.0))\n",
      "cb.set_ticklabels(('0/Best','0.1','0.2','0.3','0.4','0.5','0.6','0.7','0.8','0.9','1/Worst'))\n",
      "\n",
      "plt.savefig(\"Heatmaps/heatmap.png\", bbox_inches='tight')\n",
      "plt.close()"
     ],
     "language": "python",
     "metadata": {},
     "outputs": [],
     "prompt_number": 5
    },
    {
     "cell_type": "code",
     "collapsed": false,
     "input": [],
     "language": "python",
     "metadata": {},
     "outputs": []
    }
   ],
   "metadata": {}
  }
 ]
}