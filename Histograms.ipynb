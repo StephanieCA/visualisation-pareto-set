{
 "cells": [
  {
   "cell_type": "code",
   "execution_count": 1,
   "metadata": {
    "collapsed": false
   },
   "outputs": [],
   "source": [
    "import pandas as pd\n",
    "import matplotlib.pyplot as plt\n",
    "import matplotlib as mpl\n",
    "import numpy as np\n",
    "import pylab as p"
   ]
  },
  {
   "cell_type": "markdown",
   "metadata": {},
   "source": [
    "# 1. User input"
   ]
  },
  {
   "cell_type": "markdown",
   "metadata": {},
   "source": [
    "## 1.1 Input and format Pareto optimal set"
   ]
  },
  {
   "cell_type": "raw",
   "metadata": {},
   "source": [
    "Input Pareto set (objectives and decision variables)"
   ]
  },
  {
   "cell_type": "code",
   "execution_count": 2,
   "metadata": {
    "collapsed": false
   },
   "outputs": [],
   "source": [
    "# Enter file name containing results. 1 row of headers only\n",
    "opdata = pd.read_pickle(\"Data/opdata\")"
   ]
  },
  {
   "cell_type": "raw",
   "metadata": {},
   "source": [
    "Create dataframe of decision variables"
   ]
  },
  {
   "cell_type": "code",
   "execution_count": 3,
   "metadata": {
    "collapsed": false
   },
   "outputs": [],
   "source": [
    "dvdf = pd.read_pickle(\"Data/dvdf\")"
   ]
  },
  {
   "cell_type": "raw",
   "metadata": {},
   "source": [
    "Specify tick marks for decision variables for plots"
   ]
  },
  {
   "cell_type": "code",
   "execution_count": 4,
   "metadata": {
    "collapsed": false
   },
   "outputs": [],
   "source": [
    "dvticks = [0,0.2,0.4,0.6,0.8,1.0]"
   ]
  },
  {
   "cell_type": "markdown",
   "metadata": {},
   "source": [
    "## 1.2 Input cluster membership"
   ]
  },
  {
   "cell_type": "code",
   "execution_count": 5,
   "metadata": {
    "collapsed": false
   },
   "outputs": [],
   "source": [
    "# Enter cluster mapping. Rows must correspond with rows of objective values\n",
    "# In this case study, k-medoids was used to cluster, using R\n",
    "clusternos = pd.read_csv('Data/clusternos.csv', usecols = [1], header = 0, names = ['Cluster'])"
   ]
  },
  {
   "cell_type": "markdown",
   "metadata": {},
   "source": [
    "## 1.3 Specify cluster colours for plotting"
   ]
  },
  {
   "cell_type": "code",
   "execution_count": 6,
   "metadata": {
    "collapsed": false
   },
   "outputs": [],
   "source": [
    "# Create colour pool for clusters (add colours to taste, depending on number of clusters)\n",
    "clustcols = pd.read_pickle(\"Data/clustercolours\")"
   ]
  },
  {
   "cell_type": "markdown",
   "metadata": {},
   "source": [
    "# 2. Functions"
   ]
  },
  {
   "cell_type": "markdown",
   "metadata": {},
   "source": [
    "## 2.1 Function to determine number of rows and columns of subplots"
   ]
  },
  {
   "cell_type": "raw",
   "metadata": {},
   "source": [
    "Creates a list showing dimensions (rows and columns) of subplots, for a given number of plots. Columns is given the greater of two dimensions, where relevant."
   ]
  },
  {
   "cell_type": "code",
   "execution_count": 7,
   "metadata": {
    "collapsed": false
   },
   "outputs": [],
   "source": [
    "def dimensions(numplots):\n",
    "    cols = int(numplots**0.5) + (numplots % numplots**0.5 > 0) # rounds up the square root of numplots\n",
    "    rows = int(numplots/cols) + (numplots % cols > 0) # rounds up the numplots divided by num cols\n",
    "    return [rows, cols]"
   ]
  },
  {
   "cell_type": "markdown",
   "metadata": {},
   "source": [
    "## 2.2 Function to separate a decision variable into dataframes for each cluster"
   ]
  },
  {
   "cell_type": "raw",
   "metadata": {},
   "source": [
    "Create function to separate clusters into dataframes.\n",
    "Input: dataframe, list of cluster membership, and decision variable column name in dataframe"
   ]
  },
  {
   "cell_type": "code",
   "execution_count": 8,
   "metadata": {
    "collapsed": false
   },
   "outputs": [],
   "source": [
    "def clusterdf(data, clusterno, column):\n",
    "    df = []\n",
    "    for i in range(0, len(opdata)):\n",
    "        if (clusternos.ix[i] == clusterno).bool():\n",
    "            df.append(data[column][i])\n",
    "    df = pd.DataFrame({column: df})\n",
    "    return df"
   ]
  },
  {
   "cell_type": "markdown",
   "metadata": {},
   "source": [
    "# 3. Execution"
   ]
  },
  {
   "cell_type": "markdown",
   "metadata": {},
   "source": [
    "## 3.1 Plot histograms of values for each decision variable"
   ]
  },
  {
   "cell_type": "raw",
   "metadata": {},
   "source": [
    "Decision variable histograms on multiple plots"
   ]
  },
  {
   "cell_type": "code",
   "execution_count": 9,
   "metadata": {
    "collapsed": false
   },
   "outputs": [],
   "source": [
    "dims = dimensions(len(dvdf.columns))\n",
    "\n",
    "fig = plt.figure(figsize = [dims[1]*5*1.25, dims[0]*5]) \n",
    "    #figsize adjusted for extra wspace between plots to alow for long xlabels\n",
    "\n",
    "for i in range(0, len(dvdf.columns)):\n",
    "    column = dvdf.columns[i]\n",
    "    ax = fig.add_subplot(dims[0], dims[1], i+1)\n",
    "    ax.hist(dvdf[column], bins = 10, range = (0,1.0))\n",
    "    ax.set_xticks(dvticks)\n",
    "    ax.set_xlabel(column)\n",
    "\n",
    "    # save and close figure\n",
    "plt.savefig('Histograms/histograms dvs.png', dpi = 150, bbox_inches='tight')\n",
    "plt.close(fig)"
   ]
  },
  {
   "cell_type": "markdown",
   "metadata": {},
   "source": [
    "## 3.2 Plot histograms of decision variable values for each cluster"
   ]
  },
  {
   "cell_type": "raw",
   "metadata": {},
   "source": [
    "Desalination full threshold histograms on multiple plots"
   ]
  },
  {
   "cell_type": "code",
   "execution_count": 10,
   "metadata": {
    "collapsed": false
   },
   "outputs": [],
   "source": [
    "fig = plt.figure(figsize = [16,12])\n",
    "dxticks = [0,0.1,0.2,0.3,0.4,0.5,0.6,0.7,0.8] #change to suit\n",
    "dyticks = [0,2,4,6,8,10,12] #change to suit\n",
    "for i in range(0, clusternos.max()):\n",
    "    cluster = clusterdf(opdata, (i+1), 'Desalination Full Production Threshold')\n",
    "    clustlab = 'Cluster %d' % (i+1)\n",
    "    ax = fig.add_subplot(3,4,(i+1))\n",
    "    ax.hist(cluster['Desalination Full Production Threshold'], \n",
    "                                 bins = 32, \n",
    "                                 range = (0,0.8)\n",
    "                                 )\n",
    "    ax.set_xticks(dxticks)\n",
    "    ax.set_yticks(dyticks)\n",
    "    ax.set_xlabel(clustlab)\n",
    "# save and close figure\n",
    "plt.savefig('Histograms/histograms desal full.png', dpi=150, bbox_inches='tight')\n",
    "plt.close(fig)"
   ]
  },
  {
   "cell_type": "markdown",
   "metadata": {},
   "source": [
    "## 3.3 Plot KDE of decision variable values for each cluster"
   ]
  },
  {
   "cell_type": "raw",
   "metadata": {},
   "source": [
    "Desalination full threshold kernel density estimate lines on one plot"
   ]
  },
  {
   "cell_type": "code",
   "execution_count": 10,
   "metadata": {
    "collapsed": false
   },
   "outputs": [],
   "source": [
    "fig, axes = plt.subplots(1, 1, figsize = [9,7])\n",
    "for i in range(0, clusternos.max()):\n",
    "    cluster = clusterdf(opdata, (i+1), 'Desalination Full Production Threshold')\n",
    "    clustlab = 'Cluster %d' % (i+1)\n",
    "    cluster['Desalination Full Production Threshold'].plot(kind = 'kde', color = clustcols[i], label = clustlab)\n",
    "    plt.xlim(0,0.8)\n",
    "    plt.legend()\n",
    "    plt.xlabel('Desalination Full Production Threshold')\n",
    "    plt.ylabel('Count')\n",
    "# save and close figure\n",
    "plt.savefig('Histograms/histogram kde desal full.png', dpi=150, bbox_inches='tight')\n",
    "plt.savefig('Histograms/histogram kde desal full.eps', bbox_inches='tight')\n",
    "plt.close(fig)"
   ]
  },
  {
   "cell_type": "code",
   "execution_count": null,
   "metadata": {
    "collapsed": false
   },
   "outputs": [],
   "source": []
  }
 ],
 "metadata": {
  "kernelspec": {
   "display_name": "Python 2",
   "language": "python",
   "name": "python2"
  },
  "language_info": {
   "codemirror_mode": {
    "name": "ipython",
    "version": 2
   },
   "file_extension": ".py",
   "mimetype": "text/x-python",
   "name": "python",
   "nbconvert_exporter": "python",
   "pygments_lexer": "ipython2",
   "version": "2.7.6"
  }
 },
 "nbformat": 4,
 "nbformat_minor": 0
}
