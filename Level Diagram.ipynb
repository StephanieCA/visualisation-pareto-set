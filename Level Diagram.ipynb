{
 "metadata": {
  "name": ""
 },
 "nbformat": 3,
 "nbformat_minor": 0,
 "worksheets": [
  {
   "cells": [
    {
     "cell_type": "code",
     "collapsed": false,
     "input": [
      "import pandas as pd\n",
      "import matplotlib.pyplot as plt\n",
      "import matplotlib as mpl"
     ],
     "language": "python",
     "metadata": {},
     "outputs": [],
     "prompt_number": 7
    },
    {
     "cell_type": "heading",
     "level": 1,
     "metadata": {},
     "source": [
      "1. User Input"
     ]
    },
    {
     "cell_type": "heading",
     "level": 2,
     "metadata": {},
     "source": [
      "1.1 Import and format Pareto optimal solutions"
     ]
    },
    {
     "cell_type": "raw",
     "metadata": {},
     "source": [
      "Import optimisation results (Pareto set)"
     ]
    },
    {
     "cell_type": "code",
     "collapsed": false,
     "input": [
      "opdata = pd.read_pickle(\"Data/opdata\")"
     ],
     "language": "python",
     "metadata": {},
     "outputs": [],
     "prompt_number": 8
    },
    {
     "cell_type": "raw",
     "metadata": {},
     "source": [
      "Import normalised (0 best, 1 worst) objective function data"
     ]
    },
    {
     "cell_type": "code",
     "collapsed": false,
     "input": [
      "normobjdf = pd.read_pickle(\"Data/normobjdf\")"
     ],
     "language": "python",
     "metadata": {},
     "outputs": [],
     "prompt_number": 9
    },
    {
     "cell_type": "raw",
     "metadata": {},
     "source": [
      "Create dataframe of data to be plotted (select columns)"
     ]
    },
    {
     "cell_type": "code",
     "collapsed": false,
     "input": [
      "# remember due to Python numbering to start at zero end one column after that which you want\n",
      "plotdf = pd.DataFrame(opdata, columns = [opdata.columns[0:19]])"
     ],
     "language": "python",
     "metadata": {},
     "outputs": [],
     "prompt_number": 10
    },
    {
     "cell_type": "raw",
     "metadata": {},
     "source": [
      "Create dataframe of ticks for plotting"
     ]
    },
    {
     "cell_type": "code",
     "collapsed": false,
     "input": [
      "ticks = {}\n",
      "for i in range(0, 16): # decision variables\n",
      "    ticks[plotdf.columns[i]] = [0,0.2,0.4,0.6,0.8,1.0]\n",
      "ticks[plotdf.columns[16]] = [350,450,550] # obj 1 \n",
      "ticks[plotdf.columns[17]] = [150,250,350,450] # obj3\n",
      "ticks[plotdf.columns[18]] = [5200,5300,5400,5500] # obj2"
     ],
     "language": "python",
     "metadata": {},
     "outputs": [],
     "prompt_number": 11
    },
    {
     "cell_type": "heading",
     "level": 2,
     "metadata": {},
     "source": [
      "1.2 Import cluster membership information"
     ]
    },
    {
     "cell_type": "code",
     "collapsed": false,
     "input": [
      "clusternos = pd.read_pickle('Data/clusternos')"
     ],
     "language": "python",
     "metadata": {},
     "outputs": [],
     "prompt_number": 12
    },
    {
     "cell_type": "heading",
     "level": 2,
     "metadata": {},
     "source": [
      "1.3 Specify cluster colours"
     ]
    },
    {
     "cell_type": "raw",
     "metadata": {},
     "source": [
      "Create colour map for clusters (add colours to taste, and depending on number of clusters)"
     ]
    },
    {
     "cell_type": "code",
     "collapsed": false,
     "input": [
      "clustcols = pd.read_pickle(\"Data/clustercolours\")"
     ],
     "language": "python",
     "metadata": {},
     "outputs": [],
     "prompt_number": 13
    },
    {
     "cell_type": "raw",
     "metadata": {},
     "source": [
      "Enter list of colours, for each decision option (based on cluster membership)"
     ]
    },
    {
     "cell_type": "code",
     "collapsed": false,
     "input": [
      "clustcollist = pd.read_pickle(\"Data/clustcollist\")"
     ],
     "language": "python",
     "metadata": {},
     "outputs": [],
     "prompt_number": 14
    },
    {
     "cell_type": "heading",
     "level": 1,
     "metadata": {},
     "source": [
      "2. Functions"
     ]
    },
    {
     "cell_type": "heading",
     "level": 2,
     "metadata": {},
     "source": [
      "2.1 Function to sum normalised objective performance for level diagram"
     ]
    },
    {
     "cell_type": "raw",
     "metadata": {},
     "source": [
      "Input: 1-normalised dataframe of objective functions (0 best, 1 worst)"
     ]
    },
    {
     "cell_type": "code",
     "collapsed": false,
     "input": [
      "def lev1norm(normdf):\n",
      "    lev1norm = []\n",
      "    for i in range(0, len(normdf)):\n",
      "        lev1norm.append(sum(normdf.ix[i]))\n",
      "    lev1normdf = pd.DataFrame({'1-norm': lev1norm})\n",
      "    return lev1normdf"
     ],
     "language": "python",
     "metadata": {},
     "outputs": [],
     "prompt_number": 15
    },
    {
     "cell_type": "heading",
     "level": 2,
     "metadata": {},
     "source": [
      "2.2 Function to determine number of rows and columns of subplots"
     ]
    },
    {
     "cell_type": "raw",
     "metadata": {},
     "source": [
      "Creates a list showing dimensions (rows and columns) of subplots, for a given number of plots. Columns is given the greater of two dimensions, where relevant."
     ]
    },
    {
     "cell_type": "code",
     "collapsed": false,
     "input": [
      "def dimensions(numplots):\n",
      "    cols = int(numplots**0.5) + (numplots % numplots**0.5 > 0) # rounds up the square root of numplots\n",
      "    rows = int(numplots/cols) + (numplots % cols > 0) # rounds up the numplots divided by num cols\n",
      "    return [rows, cols]"
     ],
     "language": "python",
     "metadata": {},
     "outputs": [],
     "prompt_number": 16
    },
    {
     "cell_type": "heading",
     "level": 1,
     "metadata": {},
     "source": [
      "3. Execution"
     ]
    },
    {
     "cell_type": "heading",
     "level": 2,
     "metadata": {},
     "source": [
      "3.1 Determine 1-norm"
     ]
    },
    {
     "cell_type": "raw",
     "metadata": {},
     "source": [
      "Apply 1-norm function to obtain dataframe of 1-norm values"
     ]
    },
    {
     "cell_type": "code",
     "collapsed": false,
     "input": [
      "objs1norm = lev1norm(normobjdf)"
     ],
     "language": "python",
     "metadata": {},
     "outputs": [],
     "prompt_number": 17
    },
    {
     "cell_type": "heading",
     "level": 2,
     "metadata": {},
     "source": [
      "3.2 Plot level diagram"
     ]
    },
    {
     "cell_type": "raw",
     "metadata": {},
     "source": [
      "Plot of objectives and decision variables against 1-norm"
     ]
    },
    {
     "cell_type": "code",
     "collapsed": false,
     "input": [
      "numplots = len(plotdf.columns)\n",
      "dims = dimensions(numplots + 1) # add one for space for legend\n",
      "\n",
      "fig = plt.figure(figsize = [dims[1]*4*1.25, dims[0]*4]) \n",
      "    #figsize adjusted for extra wspace between plots to alow for long xlabels\n",
      "fig.subplots_adjust(wspace=0.25)\n",
      "\n",
      "#create alphabet for enumerating subplots\n",
      "letter = map(chr, range(97, 97+len(plotdf.columns)))\n",
      "\n",
      "for i in range(0, numplots):\n",
      "    column = plotdf.columns[i]\n",
      "    ax = fig.add_subplot(dims[0], dims[1], i+1)\n",
      "    ax.scatter(abs(plotdf[column]), objs1norm[objs1norm.columns[0]], s = 60, c = clustcollist, marker = 'o')\n",
      "    ax.set_xlabel('%s) %s' % (letter[i], column))\n",
      "    ax.set_ylabel(objs1norm.columns[0])\n",
      "    ax.set_xticks(ticks[column])\n",
      "    \n",
      "# add subplot space for legend\n",
      "axleg = fig.add_subplot(dims[0], dims[1], numplots + 1)\n",
      "axleg.axis('off')\n",
      "\n",
      "# create legend for clusters with points (coloured circles) and labels (cluster number)\n",
      "legpts = []    \n",
      "leglabs = []\n",
      "for i in range(0, max(clusternos[clusternos.columns[0]])):\n",
      "    legpt = mpl.lines.Line2D([0], [0], marker = 'o', ms = 10, color = clustcols[i], linestyle = 'none')\n",
      "    legpts.append(legpt)\n",
      "    leglab = 'Cluster %d' % (i + 1)\n",
      "    leglabs.append(leglab)\n",
      "axleg.legend(legpts, leglabs, numpoints = 1, loc = 'center', fontsize = 'medium')\n",
      "    \n",
      "plt.savefig('Level Diagram/leveldiagram.png', dpi = 80, bbox_inches = 'tight')\n",
      "    # change dpi to change size of file\n",
      "plt.close(fig)"
     ],
     "language": "python",
     "metadata": {},
     "outputs": [],
     "prompt_number": 18
    },
    {
     "cell_type": "heading",
     "level": 1,
     "metadata": {},
     "source": [
      "4. Find index of minimum 1-norm for shortlist"
     ]
    },
    {
     "cell_type": "code",
     "collapsed": false,
     "input": [
      "print objs1norm.idxmin()"
     ],
     "language": "python",
     "metadata": {},
     "outputs": [
      {
       "output_type": "stream",
       "stream": "stdout",
       "text": [
        "1-norm    471\n",
        "dtype: int64\n"
       ]
      }
     ],
     "prompt_number": 19
    }
   ],
   "metadata": {}
  }
 ]
}