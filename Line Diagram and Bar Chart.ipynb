{
 "metadata": {
  "name": ""
 },
 "nbformat": 3,
 "nbformat_minor": 0,
 "worksheets": [
  {
   "cells": [
    {
     "cell_type": "code",
     "collapsed": false,
     "input": [
      "# Loading\n",
      "import matplotlib.pyplot as plt\n",
      "import matplotlib as mpl\n",
      "import pandas as pd\n",
      "import numpy as np\n",
      "import matplotlib.cm as cm"
     ],
     "language": "python",
     "metadata": {},
     "outputs": [],
     "prompt_number": 1
    },
    {
     "cell_type": "heading",
     "level": 1,
     "metadata": {},
     "source": [
      "1 User input"
     ]
    },
    {
     "cell_type": "heading",
     "level": 2,
     "metadata": {},
     "source": [
      "1.1 Input normalised cluster medoids"
     ]
    },
    {
     "cell_type": "raw",
     "metadata": {},
     "source": [
      "Enter normalised objective function medoids"
     ]
    },
    {
     "cell_type": "code",
     "collapsed": false,
     "input": [
      "normmedoidobjdf = pd.read_pickle(\"Data/normmedoidobjdf\")"
     ],
     "language": "python",
     "metadata": {},
     "outputs": [],
     "prompt_number": 2
    },
    {
     "cell_type": "heading",
     "level": 2,
     "metadata": {},
     "source": [
      "1.2 Create colormap for objective functions"
     ]
    },
    {
     "cell_type": "code",
     "collapsed": false,
     "input": [
      "colorpool = [\"red\", \"blue\", \"green\"]\n",
      "cmap = mpl.colors.ListedColormap(colorpool, 'objcolors')\n",
      "mpl.cm.register_cmap(name = 'objcolors', cmap = cmap)"
     ],
     "language": "python",
     "metadata": {},
     "outputs": [],
     "prompt_number": 3
    },
    {
     "cell_type": "heading",
     "level": 1,
     "metadata": {},
     "source": [
      "2 Execution"
     ]
    },
    {
     "cell_type": "heading",
     "level": 2,
     "metadata": {},
     "source": [
      "2.1 Create line diagram of medoids"
     ]
    },
    {
     "cell_type": "code",
     "collapsed": false,
     "input": [
      "ax = plt.figure(figsize=(15, 10)).add_subplot(111)\n",
      "\n",
      "normmedoidobjdf.plot(ax=ax, colormap = 'objcolors', style = ['-', '--', ':'], lw = 2)\n",
      "\n",
      "ax.set_xticks(range(0, len(normmedoidobjdf)))\n",
      "ax.set_xticklabels(range(1, len(normmedoidobjdf)+1))\n",
      "ax.set_yticklabels(['Best/0', 0.2, 0.4, 0.6, 0.8, 'Worst/1'])\n",
      "\n",
      "ax.set_xlabel(\"Cluster Medoids\")\n",
      "ax.set_ylabel(\"Normalised objective function performance\")\n",
      "\n",
      "# save and close figure\n",
      "plt.savefig('Line Diagram and Bar Chart/line diagram.png', dpi = 150, bbox_inches = 'tight')\n",
      "plt.close()"
     ],
     "language": "python",
     "metadata": {},
     "outputs": [],
     "prompt_number": 4
    },
    {
     "cell_type": "heading",
     "level": 2,
     "metadata": {},
     "source": [
      "2.2 Create bar chart of medoids"
     ]
    },
    {
     "cell_type": "code",
     "collapsed": false,
     "input": [
      "ax = plt.figure(figsize = (15,10)).add_subplot(111)\n",
      "\n",
      "normmedoidobjdf.plot(ax=ax, kind = 'bar', legend = False, colormap = 'objcolors', rot = 0)\n",
      "\n",
      "bars = ax.patches\n",
      "hatches = ''.join(h*len(normmedoidobjdf) for h in 'x/0.')\n",
      "\n",
      "for bar, hatch in zip(bars, hatches):\n",
      "    bar.set_hatch(hatch)\n",
      "\n",
      "ax.legend(loc = 0)\n",
      "\n",
      "ax.set_xticklabels(range(1, len(normmedoidobjdf)+1))\n",
      "ax.set_yticklabels(['Best/0', 0.2, 0.4, 0.6, 0.8, 'Worst/1'])\n",
      "\n",
      "ax.set_xlabel(\"Cluster Medoids\")\n",
      "ax.set_ylabel(\"Normalised objective function performance\")\n",
      "\n",
      "# save and close figure\n",
      "plt.savefig('Line Diagram and Bar Chart/bar chart.png', dpi = 150, bbox_inches = 'tight')\n",
      "plt.close()"
     ],
     "language": "python",
     "metadata": {},
     "outputs": [],
     "prompt_number": 5
    },
    {
     "cell_type": "code",
     "collapsed": false,
     "input": [],
     "language": "python",
     "metadata": {},
     "outputs": [],
     "prompt_number": 5
    }
   ],
   "metadata": {}
  }
 ]
}