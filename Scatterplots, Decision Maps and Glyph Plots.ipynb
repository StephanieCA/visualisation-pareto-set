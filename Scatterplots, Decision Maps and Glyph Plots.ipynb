{
 "cells": [
  {
   "cell_type": "code",
   "execution_count": 1,
   "metadata": {
    "collapsed": false
   },
   "outputs": [],
   "source": [
    "# Loading\n",
    "import matplotlib.pyplot as plt\n",
    "import matplotlib as mpl\n",
    "import pandas as pd\n",
    "import numpy as np\n",
    "from mpl_toolkits.mplot3d import Axes3D\n",
    "import scipy.stats as stats"
   ]
  },
  {
   "cell_type": "markdown",
   "metadata": {},
   "source": [
    "# 1. User Input"
   ]
  },
  {
   "cell_type": "markdown",
   "metadata": {},
   "source": [
    "## 1.1 Import Pareto set"
   ]
  },
  {
   "cell_type": "raw",
   "metadata": {},
   "source": [
    "Import Pareto set. \n",
    "Enter datframe containing results."
   ]
  },
  {
   "cell_type": "code",
   "execution_count": 2,
   "metadata": {
    "collapsed": false
   },
   "outputs": [],
   "source": [
    "opdata = pd.read_pickle(\"Data/opdata\")"
   ]
  },
  {
   "cell_type": "markdown",
   "metadata": {},
   "source": [
    "## 1.2 Import objective functions"
   ]
  },
  {
   "cell_type": "code",
   "execution_count": 3,
   "metadata": {
    "collapsed": false
   },
   "outputs": [],
   "source": [
    "# individually\n",
    "obj1 = pd.read_pickle(\"Data/obj1\")\n",
    "obj2 = pd.read_pickle(\"Data/obj2\")\n",
    "obj3 = pd.read_pickle(\"Data/obj3\")\n",
    "\n",
    "# as dataframe\n",
    "objdf = pd.read_pickle(\"Data/objdf\")"
   ]
  },
  {
   "cell_type": "raw",
   "metadata": {},
   "source": [
    "Import normalised objective functions, where 1 is preferred, 0 is least preferred"
   ]
  },
  {
   "cell_type": "code",
   "execution_count": 4,
   "metadata": {
    "collapsed": false
   },
   "outputs": [],
   "source": [
    "onenormobj1 = pd.read_pickle(\"Data/onenormobj1\")\n",
    "onenormobj2 = pd.read_pickle(\"Data/onenormobj2\")\n",
    "onenormobj3 = pd.read_pickle(\"Data/onenormobj3\")"
   ]
  },
  {
   "cell_type": "markdown",
   "metadata": {},
   "source": [
    "## 1.3 Extract other variables of interest for plots"
   ]
  },
  {
   "cell_type": "code",
   "execution_count": 5,
   "metadata": {
    "collapsed": false
   },
   "outputs": [],
   "source": [
    "desalfull = opdata['Desalination Full Production Threshold']\n",
    "desalfullname = 'Desalination Full Production Threshold'\n",
    "desal13 = opdata['Desalination 1/3 Production Threshold']\n",
    "desal13name = 'Desalination 1/3 Production Threshold'\n",
    "desal23 = opdata['Desalination 2/3 Production Threshold']\n",
    "desal23name = 'Desalination 2/3 Production Threshold'\n",
    "desalprod = opdata['Desalination Total Production Volume (GL)']\n",
    "desalprodname = 'Desalination Total Production Volume (GL)'\n",
    "\n",
    "brisbnthpineflow = opdata['Brisbane to Nth Pine Flow Threshold']"
   ]
  },
  {
   "cell_type": "markdown",
   "metadata": {},
   "source": [
    "## 1.4 Enter chart axis names"
   ]
  },
  {
   "cell_type": "raw",
   "metadata": {},
   "source": [
    "Objective names for charts\n",
    "(including arrows for direction of preference, right is maximised, left is minimised)"
   ]
  },
  {
   "cell_type": "code",
   "execution_count": 41,
   "metadata": {
    "collapsed": false
   },
   "outputs": [],
   "source": [
    "obj1chartname = 'Minimum Storage (GL) %s' % r'$\\longrightarrow$'\n",
    "obj2chartname = '%s Total Cost (%s million)' % (r'$\\longleftarrow$', r'$\\$$')\n",
    "obj3chartname = '%s Total Spill (GL)' % r'$\\longleftarrow$'"
   ]
  },
  {
   "cell_type": "markdown",
   "metadata": {},
   "source": [
    "## 1.5 Enter tick points for chart (if desired)"
   ]
  },
  {
   "cell_type": "code",
   "execution_count": 42,
   "metadata": {
    "collapsed": false
   },
   "outputs": [],
   "source": [
    "obj1ticks = [150,250,350,450]\n",
    "obj2ticks = [5200,5300,5400,5500]\n",
    "obj3ticks = [350,400,450,500,550,600]\n",
    "\n",
    "desalprodticks = [0,100,200,300,400,500]\n",
    "desalfullticks = [0,0.2,0.4,0.6,0.8]\n",
    "desal13ticks = [0,0.2,0.4,0.6,0.8,1.0]\n",
    "desal23ticks = [0,0.2,0.4,0.6,0.8,1.0]"
   ]
  },
  {
   "cell_type": "markdown",
   "metadata": {},
   "source": [
    "# 2. Create Scatterplot of objective performance"
   ]
  },
  {
   "cell_type": "markdown",
   "metadata": {},
   "source": [
    "## 2.1 3D scatterplot of objective function performance of Pareto set"
   ]
  },
  {
   "cell_type": "code",
   "execution_count": 65,
   "metadata": {
    "collapsed": false
   },
   "outputs": [],
   "source": [
    "fig = plt.figure(figsize = [7,7])\n",
    "ax = fig.add_subplot(1,1,1)\n",
    "ax = Axes3D(fig)\n",
    "ax.scatter(obj1, obj2, obj3, c = 'blue')\n",
    "ax.set_xlabel(obj1chartname, labelpad = 10) \n",
    "    #labelpad improves space bet. axis and label\n",
    "ax.set_ylabel(obj2chartname, labelpad = 10)\n",
    "ax.set_zlabel(obj3chartname, labelpad = 10)\n",
    "# save for embedding in document\n",
    "plt.savefig('Scatterplots/scatterplot pareto front.png', dpi = 150)\n",
    "# save for upload\n",
    "plt.savefig('Scatterplots/scatterplot pareto front.eps')\n",
    "plt.close(fig)"
   ]
  },
  {
   "cell_type": "markdown",
   "metadata": {},
   "source": [
    "# 3. Create decision map matrix of objective performance"
   ]
  },
  {
   "cell_type": "markdown",
   "metadata": {},
   "source": [
    "## 3.1 Decision maps of objective function performance of Pareto set"
   ]
  },
  {
   "cell_type": "code",
   "execution_count": 71,
   "metadata": {
    "collapsed": false
   },
   "outputs": [],
   "source": [
    "fig = plt.figure(figsize = [15,15])\n",
    "ax1 = fig.add_subplot(2,2,1)\n",
    "ax1.scatter(obj1, obj2, c = onenormobj3, marker = '.', s = 250, cmap = 'gray')\n",
    "ax1.set_xlabel('%s    %s' % ('(a)', obj1chartname))\n",
    "ax1.set_xticks(obj1ticks)\n",
    "ax1.set_ylabel(obj2chartname)\n",
    "\n",
    "ax2 = fig.add_subplot(2,2,2)\n",
    "ax2.scatter(obj1, obj3, c = onenormobj2, marker = '.', s = 250, cmap = 'gray')\n",
    "ax2.set_xlabel('%s    %s' % ('(b)', obj1chartname))\n",
    "ax2.set_xticks(obj1ticks)\n",
    "ax2.set_ylabel(obj3chartname)\n",
    "\n",
    "ax3 = fig.add_subplot(2,2,3)\n",
    "ax3.scatter(obj2, obj3, c = onenormobj1, marker = '.', s = 250, cmap = 'gray')\n",
    "ax3.set_xlabel('%s    %s' % ('(c)', obj2chartname))\n",
    "ax3.set_xticks(obj2ticks)\n",
    "ax3.set_ylabel(obj3chartname)\n",
    "\n",
    "plt.savefig('Decision Maps/decision maps pareto front.png', dpi = 150, bbox_inches = 'tight')\n",
    "plt.savefig('Decision Maps/decision maps pareto front.eps', bbox_inches = 'tight')\n",
    "\n",
    "plt.close(fig)"
   ]
  },
  {
   "cell_type": "markdown",
   "metadata": {},
   "source": [
    "## 3.2 Decision map of objective function performance of obj1 vs obj2, with obj3 as shading"
   ]
  },
  {
   "cell_type": "code",
   "execution_count": 72,
   "metadata": {
    "collapsed": false
   },
   "outputs": [],
   "source": [
    "fig = plt.figure(figsize = [9,7])\n",
    "ax = fig.add_subplot(1,1,1)\n",
    "ax.scatter(obj1, obj2, c = onenormobj3, marker = '.', s = 250, cmap = 'gray')\n",
    "ax.set_xlabel(obj1chartname)\n",
    "ax.set_xticks(obj1ticks)\n",
    "ax.set_ylabel(obj2chartname)\n",
    "\n",
    "plt.savefig('Decision Maps/decision map pareto front obj1 obj2.png', dpi = 150, bbox_inches = 'tight')\n",
    "plt.savefig('Decision Maps/decision map pareto front obj1 obj2.eps', bbox_inches = 'tight')\n",
    "\n",
    "plt.close(fig)"
   ]
  },
  {
   "cell_type": "markdown",
   "metadata": {},
   "source": [
    "# 4. Glyph plots"
   ]
  },
  {
   "cell_type": "markdown",
   "metadata": {},
   "source": [
    "## 4.1 Glyph plot showing Brisbane to Nth Pine Flow Threshold in addition to objective functions"
   ]
  },
  {
   "cell_type": "code",
   "execution_count": 73,
   "metadata": {
    "collapsed": false
   },
   "outputs": [],
   "source": [
    "fig = plt.figure(figsize = [9,7])\n",
    "ax = fig.add_subplot(1,1,1)\n",
    "ax.scatter(obj1, obj2, c = onenormobj3, marker = '.', s = brisbnthpineflow*1000, cmap = 'gray')\n",
    "ax.set_xlabel(obj1chartname)\n",
    "ax.set_xticks(obj1ticks)\n",
    "ax.set_ylabel(obj2chartname)\n",
    "\n",
    "plt.savefig('Glyph Plot/glyph plot pareto front brisbnthpineflow.png', dpi = 150, bbox_inches='tight')\n",
    "plt.savefig('Glyph Plot/glyph plot pareto front brisbnthpineflow.eps', bbox_inches='tight')\n",
    "\n",
    "plt.close(fig)"
   ]
  },
  {
   "cell_type": "markdown",
   "metadata": {},
   "source": [
    "# 5. Scatterplots of desalination decision variable and production volume vs objective functions"
   ]
  },
  {
   "cell_type": "raw",
   "metadata": {},
   "source": [
    "Scatterplots of desalination full decision variable vs objectives"
   ]
  },
  {
   "cell_type": "code",
   "execution_count": 77,
   "metadata": {
    "collapsed": false
   },
   "outputs": [],
   "source": [
    "fig, axes = plt.subplots(1, 3, sharey = True, figsize = [12,4])\n",
    "\n",
    "axes[0].scatter(obj1, desalfull, c = 'black')\n",
    "axes[0].set_xlabel('%s    %s' % ('(a)', obj1chartname))\n",
    "axes[0].set_xticks(obj1ticks)\n",
    "axes[0].set_xticklabels(obj1ticks, rotation = 30, horizontalalignment = 'right')\n",
    "axes[0].set_ylabel(desalfullname)\n",
    "axes[0].set_yticks(desalfullticks)\n",
    "\n",
    "axes[1].scatter(obj2, desalfull, c = 'black')\n",
    "axes[1].set_xlabel('%s    %s' % ('(b)', obj2chartname))\n",
    "axes[1].set_xticks(obj2ticks)\n",
    "axes[1].set_xticklabels(obj2ticks, rotation = 30, horizontalalignment = 'right')\n",
    "\n",
    "axes[2].scatter(obj3, desalfull, c = 'black')\n",
    "axes[2].set_xlabel('%s    %s' % ('(c)', obj3chartname))\n",
    "axes[2].set_xticks(obj3ticks)\n",
    "axes[2].set_xticklabels(obj3ticks, rotation = 30, horizontalalignment = 'right')\n",
    "\n",
    "plt.subplots_adjust(wspace = 0, hspace = 0)\n",
    "plt.savefig('Scatterplots/scatterplot desal full obj.png', dpi=150, bbox_inches='tight') \n",
    "plt.savefig('Scatterplots/scatterplot desal full obj.eps', bbox_inches='tight') \n",
    "plt.close(fig)"
   ]
  },
  {
   "cell_type": "code",
   "execution_count": null,
   "metadata": {
    "collapsed": false
   },
   "outputs": [],
   "source": []
  }
 ],
 "metadata": {
  "kernelspec": {
   "display_name": "Python 2",
   "language": "python",
   "name": "python2"
  },
  "language_info": {
   "codemirror_mode": {
    "name": "ipython",
    "version": 2
   },
   "file_extension": ".py",
   "mimetype": "text/x-python",
   "name": "python",
   "nbconvert_exporter": "python",
   "pygments_lexer": "ipython2",
   "version": "2.7.6"
  }
 },
 "nbformat": 4,
 "nbformat_minor": 0
}
